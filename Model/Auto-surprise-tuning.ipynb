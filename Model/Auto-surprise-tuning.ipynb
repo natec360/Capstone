{
 "cells": [
  {
   "cell_type": "markdown",
   "id": "2d70aa25-88e0-4f6c-ac00-1d0b21fe7116",
   "metadata": {},
   "source": [
    "## Recommeder Model"
   ]
  },
  {
   "cell_type": "code",
   "execution_count": 36,
   "id": "9e0cd7d2-40c0-4b5f-99a5-e40cc87aac45",
   "metadata": {},
   "outputs": [],
   "source": [
    "#Use conda to install scikit-surprise with the below command\n",
    "#conda install -c conda-forge scikit-surprise\n",
    "\n",
    "#libraries\n",
    "import numpy as np\n",
    "import pandas as pd\n",
    "import matplotlib.pyplot as plt\n",
    "%matplotlib inline\n",
    "\n",
    "#surprise imports\n",
    "import surprise\n",
    "import hyperopt\n",
    "import json\n",
    "from surprise import Dataset\n",
    "from surprise import Reader\n",
    "from surprise import SVD\n",
    "from surprise.prediction_algorithms.knns import KNNBasic, KNNWithMeans\n",
    "from surprise.model_selection import cross_validate, train_test_split, GridSearchCV\n",
    "from surprise import accuracy\n",
    "from auto_surprise.engine import Engine"
   ]
  },
  {
   "cell_type": "markdown",
   "id": "33a89f7a-0c48-43ba-a797-053eba5fb3b9",
   "metadata": {},
   "source": [
    "## Load Data"
   ]
  },
  {
   "cell_type": "code",
   "execution_count": 5,
   "id": "bde4135a-8933-4a65-89ed-8cefdd8ce16d",
   "metadata": {},
   "outputs": [
    {
     "data": {
      "text/html": [
       "<div>\n",
       "<style scoped>\n",
       "    .dataframe tbody tr th:only-of-type {\n",
       "        vertical-align: middle;\n",
       "    }\n",
       "\n",
       "    .dataframe tbody tr th {\n",
       "        vertical-align: top;\n",
       "    }\n",
       "\n",
       "    .dataframe thead th {\n",
       "        text-align: right;\n",
       "    }\n",
       "</style>\n",
       "<table border=\"1\" class=\"dataframe\">\n",
       "  <thead>\n",
       "    <tr style=\"text-align: right;\">\n",
       "      <th></th>\n",
       "      <th>athlete</th>\n",
       "      <th>prev_month_weekly_km</th>\n",
       "      <th>prev_month_weekly_pace</th>\n",
       "      <th>prev_month_weekly_days_run</th>\n",
       "      <th>age_bucket</th>\n",
       "      <th>gender</th>\n",
       "      <th>country</th>\n",
       "      <th>current_month</th>\n",
       "      <th>run_distance_rounded</th>\n",
       "      <th>weekly_frequency</th>\n",
       "    </tr>\n",
       "  </thead>\n",
       "  <tbody>\n",
       "    <tr>\n",
       "      <th>0</th>\n",
       "      <td>0</td>\n",
       "      <td>47.48</td>\n",
       "      <td>6.185043</td>\n",
       "      <td>3.4</td>\n",
       "      <td>18 - 34</td>\n",
       "      <td>F</td>\n",
       "      <td>United States</td>\n",
       "      <td>October</td>\n",
       "      <td>4.0</td>\n",
       "      <td>0.225806</td>\n",
       "    </tr>\n",
       "    <tr>\n",
       "      <th>1</th>\n",
       "      <td>0</td>\n",
       "      <td>47.48</td>\n",
       "      <td>6.185043</td>\n",
       "      <td>3.4</td>\n",
       "      <td>18 - 34</td>\n",
       "      <td>F</td>\n",
       "      <td>United States</td>\n",
       "      <td>October</td>\n",
       "      <td>6.0</td>\n",
       "      <td>0.225806</td>\n",
       "    </tr>\n",
       "    <tr>\n",
       "      <th>2</th>\n",
       "      <td>0</td>\n",
       "      <td>47.48</td>\n",
       "      <td>6.185043</td>\n",
       "      <td>3.4</td>\n",
       "      <td>18 - 34</td>\n",
       "      <td>F</td>\n",
       "      <td>United States</td>\n",
       "      <td>October</td>\n",
       "      <td>8.0</td>\n",
       "      <td>0.225806</td>\n",
       "    </tr>\n",
       "    <tr>\n",
       "      <th>3</th>\n",
       "      <td>0</td>\n",
       "      <td>47.48</td>\n",
       "      <td>6.185043</td>\n",
       "      <td>3.4</td>\n",
       "      <td>18 - 34</td>\n",
       "      <td>F</td>\n",
       "      <td>United States</td>\n",
       "      <td>October</td>\n",
       "      <td>9.0</td>\n",
       "      <td>0.225806</td>\n",
       "    </tr>\n",
       "    <tr>\n",
       "      <th>4</th>\n",
       "      <td>0</td>\n",
       "      <td>47.48</td>\n",
       "      <td>6.185043</td>\n",
       "      <td>3.4</td>\n",
       "      <td>18 - 34</td>\n",
       "      <td>F</td>\n",
       "      <td>United States</td>\n",
       "      <td>October</td>\n",
       "      <td>10.0</td>\n",
       "      <td>0.225806</td>\n",
       "    </tr>\n",
       "  </tbody>\n",
       "</table>\n",
       "</div>"
      ],
      "text/plain": [
       "   athlete  prev_month_weekly_km  prev_month_weekly_pace   \n",
       "0        0                 47.48                6.185043  \\\n",
       "1        0                 47.48                6.185043   \n",
       "2        0                 47.48                6.185043   \n",
       "3        0                 47.48                6.185043   \n",
       "4        0                 47.48                6.185043   \n",
       "\n",
       "   prev_month_weekly_days_run age_bucket gender        country current_month   \n",
       "0                         3.4    18 - 34      F  United States       October  \\\n",
       "1                         3.4    18 - 34      F  United States       October   \n",
       "2                         3.4    18 - 34      F  United States       October   \n",
       "3                         3.4    18 - 34      F  United States       October   \n",
       "4                         3.4    18 - 34      F  United States       October   \n",
       "\n",
       "   run_distance_rounded  weekly_frequency  \n",
       "0                   4.0          0.225806  \n",
       "1                   6.0          0.225806  \n",
       "2                   8.0          0.225806  \n",
       "3                   9.0          0.225806  \n",
       "4                  10.0          0.225806  "
      ]
     },
     "execution_count": 5,
     "metadata": {},
     "output_type": "execute_result"
    }
   ],
   "source": [
    "#load in csv data\n",
    "raw_df = pd.read_csv('../../raw/input_runners_2020.csv')\n",
    "raw_df.head()"
   ]
  },
  {
   "cell_type": "code",
   "execution_count": 6,
   "id": "f5e58aa3-e30c-420c-a7cd-7661d635245c",
   "metadata": {},
   "outputs": [
    {
     "data": {
      "text/plain": [
       "27156850"
      ]
     },
     "execution_count": 6,
     "metadata": {},
     "output_type": "execute_result"
    }
   ],
   "source": [
    "raw_df.size"
   ]
  },
  {
   "cell_type": "code",
   "execution_count": 7,
   "id": "af49ac0a-b00d-4381-8588-0234dc8d0b03",
   "metadata": {},
   "outputs": [],
   "source": [
    "#set \"users\" to athlete id + month\n",
    "\n",
    "#convert months to number\n",
    "def mtn(x):\n",
    "    months = {\n",
    "        'jan': 1,\n",
    "        'feb': 2,\n",
    "        'mar': 3,\n",
    "        'apr':4,\n",
    "         'may':5,\n",
    "         'jun':6,\n",
    "         'jul':7,\n",
    "         'aug':8,\n",
    "         'sep':9,\n",
    "         'oct':10,\n",
    "         'nov':11,\n",
    "         'dec':12\n",
    "        }\n",
    "    a = x.strip()[:3].lower()\n",
    "    try:\n",
    "        ez = months[a]\n",
    "        return ez\n",
    "    except:\n",
    "        raise ValueError('Not a month')\n",
    "        \n",
    "raw_df[\"current_month\"] =  raw_df[\"current_month\"].apply(lambda x:mtn(x)) \n",
    "\n",
    "#create user ID\n",
    "raw_df[\"user_id\"] = raw_df[\"athlete\"].astype(str) + \".\" + raw_df[\"current_month\"].astype(str)"
   ]
  },
  {
   "cell_type": "code",
   "execution_count": 8,
   "id": "a38effe6-d00d-4f1a-9e0a-97ad5173eb79",
   "metadata": {},
   "outputs": [
    {
     "data": {
      "text/plain": [
       "27373005"
      ]
     },
     "execution_count": 8,
     "metadata": {},
     "output_type": "execute_result"
    }
   ],
   "source": [
    "#remove any missings from the data\n",
    "raw_df= raw_df[raw_df[\"prev_month_weekly_km\"].notna()]\n",
    "raw_df.size"
   ]
  },
  {
   "cell_type": "code",
   "execution_count": 9,
   "id": "027fb42b-9e2d-45e2-83d1-791f07f55797",
   "metadata": {},
   "outputs": [
    {
     "data": {
      "text/plain": [
       "26912776"
      ]
     },
     "execution_count": 9,
     "metadata": {},
     "output_type": "execute_result"
    }
   ],
   "source": [
    "#remove 0s\n",
    "raw_df= raw_df[raw_df[\"prev_month_weekly_km\"]!=0]\n",
    "raw_df.size"
   ]
  },
  {
   "cell_type": "code",
   "execution_count": 23,
   "id": "13f36424-2394-4f19-8134-15e6bbdbc13d",
   "metadata": {},
   "outputs": [
    {
     "data": {
      "text/plain": [
       "1345641"
      ]
     },
     "execution_count": 23,
     "metadata": {},
     "output_type": "execute_result"
    }
   ],
   "source": [
    "sampled_df = raw_df.sample(frac = 0.05, replace = True)\n",
    "\n",
    "#define objects for Surprise. Must be in user, item, rating order    \n",
    "data = Dataset.load_from_df(sampled_df[[\"user_id\",\"run_distance_rounded\",\"weekly_frequency\"]], Reader(rating_scale=(0,7)))\n",
    "sampled_df.size"
   ]
  },
  {
   "cell_type": "code",
   "execution_count": null,
   "id": "a19269b3-dff6-4306-8377-96117c490f6c",
   "metadata": {
    "tags": []
   },
   "outputs": [],
   "source": [
    "#setup parameters for tuning\n",
    "#engine = Engine(verbose=True, algorithms=['svd', 'svdpp', 'knn_basic', 'knn_with_means', 'knn_baseline'])\n",
    "engine = Engine(verbose=True, algorithms=['svdpp'])\n",
    "\n",
    "best_algo, best_params, best_score, tasks = engine.train(\n",
    "    data=data,\n",
    "    target_metric='test_rmse',\n",
    "    cpu_time_limit=60*60*8,\n",
    "    max_evals=20,\n",
    "    hpo_algo=hyperopt.tpe.suggest\n",
    ")"
   ]
  },
  {
   "cell_type": "code",
   "execution_count": null,
   "id": "d4d8425a-4673-4c1f-b9c0-f3e1833cfb87",
   "metadata": {},
   "outputs": [],
   "source": [
    "#write out best results\n",
    "results = best_params\n",
    "results['algo'] = best_algo\n",
    "results['rmse'] = best_score\n",
    "\n",
    "with open('auto_tune_results.json', 'w') as file:\n",
    "    file.write(json.dumps(results))"
   ]
  },
  {
   "cell_type": "code",
   "execution_count": 16,
   "id": "81648f36-b70d-461f-ac55-0da4ff21e54e",
   "metadata": {},
   "outputs": [],
   "source": [
    "#write out best results\n",
    "algo = \"svd\"\n",
    "path = algo + 'auto_tune_results.json'\n",
    "results = {}\n",
    "results['algo'] = 'test2'\n",
    "\n",
    "with open(path, 'w') as file:\n",
    "    file.write(json.dumps(results))"
   ]
  },
  {
   "cell_type": "code",
   "execution_count": null,
   "id": "e44b145b-3099-42dd-b2e2-3471fd206b70",
   "metadata": {
    "collapsed": true,
    "jupyter": {
     "outputs_hidden": true
    },
    "tags": []
   },
   "outputs": [
    {
     "data": {
      "text/html": [
       "<pre style=\"white-space:pre;overflow-x:auto;line-height:normal;font-family:Menlo,'DejaVu Sans Mono',consolas,'Courier New',monospace\">auto_surprise <span style=\"color: #008080; text-decoration-color: #008080; font-weight: bold\">0.1</span>.<span style=\"color: #008080; text-decoration-color: #008080; font-weight: bold\">9</span>\n",
       "</pre>\n"
      ],
      "text/plain": [
       "auto_surprise \u001b[1;36m0.1\u001b[0m.\u001b[1;36m9\u001b[0m\n"
      ]
     },
     "metadata": {},
     "output_type": "display_data"
    },
    {
     "data": {
      "text/html": [
       "<pre style=\"white-space:pre;overflow-x:auto;line-height:normal;font-family:Menlo,'DejaVu Sans Mono',consolas,'Courier New',monospace\">Available CPUs: <span style=\"color: #008080; text-decoration-color: #008080; font-weight: bold\">32</span>\n",
       "</pre>\n"
      ],
      "text/plain": [
       "Available CPUs: \u001b[1;36m32\u001b[0m\n"
      ]
     },
     "metadata": {},
     "output_type": "display_data"
    },
    {
     "name": "stdout",
     "output_type": "stream",
     "text": [
      "Evaluating RMSE, MAE, MSE of algorithm NormalPredictor on 5 split(s).\n",
      "\n",
      "                  Fold 1  Fold 2  Fold 3  Fold 4  Fold 5  Mean    Std     \n",
      "RMSE (testset)    0.4209  0.4240  0.4142  0.4209  0.4154  0.4191  0.0037  \n",
      "MAE (testset)     0.3086  0.3125  0.3082  0.3097  0.3076  0.3093  0.0017  \n",
      "MSE (testset)     0.1772  0.1797  0.1716  0.1771  0.1725  0.1756  0.0031  \n",
      "Fit time          0.10    0.10    0.11    0.10    0.12    0.11    0.01    \n",
      "Test time         0.07    0.07    0.07    0.07    0.22    0.10    0.06    \n"
     ]
    },
    {
     "data": {
      "text/html": [
       "<pre style=\"white-space:pre;overflow-x:auto;line-height:normal;font-family:Menlo,'DejaVu Sans Mono',consolas,'Courier New',monospace\">Baseline loss: <span style=\"color: #008080; text-decoration-color: #008080; font-weight: bold\">0.41906305687211864</span>\n",
       "</pre>\n"
      ],
      "text/plain": [
       "Baseline loss: \u001b[1;36m0.41906305687211864\u001b[0m\n"
      ]
     },
     "metadata": {},
     "output_type": "display_data"
    },
    {
     "name": "stdout",
     "output_type": "stream",
     "text": [
      "Starting process with svd algorithm\n",
      "Evaluating RMSE, MAE, MSE of algorithm SVD on 5 split(s).                                                 \n",
      "                  Fold 1  Fold 2  Fold 3  Fold 4  Fold 5  Mean    Std                                     \n",
      "RMSE (testset)    0.3182  0.3264  0.3331  0.3300  0.3243  0.3264  0.0051  \n",
      "MAE (testset)     0.2059  0.2073  0.2095  0.2097  0.2087  0.2082  0.0014  \n",
      "MSE (testset)     0.1012  0.1065  0.1110  0.1089  0.1052  0.1066  0.0033  \n",
      "Fit time          12.57   9.32    12.61   10.03   12.58   11.42   1.44    \n",
      "Test time         0.25    0.09    0.09    0.20    0.09    0.14    0.07    \n",
      "Evaluating RMSE, MAE, MSE of algorithm SVD on 5 split(s).                                                 \n",
      "                  Fold 1  Fold 2  Fold 3  Fold 4  Fold 5  Mean    Std                                     \n",
      "RMSE (testset)    0.3230  0.3221  0.3179  0.3184  0.3050  0.3173  0.0064  \n",
      "MAE (testset)     0.2041  0.2006  0.2004  0.2001  0.1969  0.2004  0.0023  \n",
      "MSE (testset)     0.1043  0.1038  0.1010  0.1014  0.0931  0.1007  0.0040  \n",
      "Fit time          7.57    5.76    7.51    5.90    7.45    6.84    0.83    \n",
      "Test time         0.09    0.09    0.09    0.09    0.09    0.09    0.00    \n",
      "Evaluating RMSE, MAE, MSE of algorithm SVD on 5 split(s).                                                 \n",
      "                  Fold 1  Fold 2  Fold 3  Fold 4  Fold 5  Mean    Std                                     \n",
      "RMSE (testset)    0.2917  0.2962  0.2969  0.3019  0.3024  0.2978  0.0040  \n",
      "MAE (testset)     0.1933  0.1938  0.1942  0.1953  0.1922  0.1938  0.0010  \n",
      "MSE (testset)     0.0851  0.0878  0.0881  0.0911  0.0914  0.0887  0.0024  \n",
      "Fit time          3.56    2.70    3.52    2.76    3.58    3.22    0.40    \n",
      "Test time         0.09    0.08    0.08    0.09    0.21    0.11    0.05    \n",
      "Evaluating RMSE, MAE, MSE of algorithm SVD on 5 split(s).                                                 \n",
      "                  Fold 1  Fold 2  Fold 3  Fold 4  Fold 5  Mean    Std                                     \n",
      "RMSE (testset)    0.3080  0.3060  0.2929  0.2973  0.3005  0.3009  0.0055  \n",
      "MAE (testset)     0.1945  0.1957  0.1905  0.1934  0.1917  0.1932  0.0019  \n",
      "MSE (testset)     0.0948  0.0936  0.0858  0.0884  0.0903  0.0906  0.0033  \n",
      "Fit time          4.39    3.43    4.48    3.53    4.30    4.03    0.45    \n",
      "Test time         0.09    0.09    0.09    0.09    0.09    0.09    0.00    \n",
      "Evaluating RMSE, MAE, MSE of algorithm SVD on 5 split(s).                                                 \n",
      "                  Fold 1  Fold 2  Fold 3  Fold 4  Fold 5  Mean    Std                                     \n",
      "RMSE (testset)    0.2926  0.2964  0.3035  0.3011  0.2939  0.2975  0.0042  \n",
      "MAE (testset)     0.1897  0.1907  0.1921  0.1922  0.1906  0.1911  0.0010  \n",
      "MSE (testset)     0.0856  0.0879  0.0921  0.0907  0.0864  0.0885  0.0025  \n",
      "Fit time          6.44    5.09    6.58    5.43    6.50    6.01    0.62    \n",
      "Test time         0.09    0.09    0.09    0.09    0.09    0.09    0.00    \n",
      "Evaluating RMSE, MAE, MSE of algorithm SVD on 5 split(s).                                                 \n",
      "                  Fold 1  Fold 2  Fold 3  Fold 4  Fold 5  Mean    Std                                     \n",
      "RMSE (testset)    0.2991  0.2897  0.3020  0.3045  0.2960  0.2983  0.0051  \n",
      "MAE (testset)     0.1928  0.1894  0.1942  0.1931  0.1913  0.1922  0.0016  \n",
      "MSE (testset)     0.0894  0.0839  0.0912  0.0927  0.0876  0.0890  0.0030  \n",
      "Fit time          3.77    3.04    3.77    3.07    3.84    3.50    0.36    \n",
      "Test time         0.22    0.20    0.09    0.09    0.09    0.14    0.06    \n",
      "Evaluating RMSE, MAE, MSE of algorithm SVD on 5 split(s).                                                 \n",
      "                  Fold 1  Fold 2  Fold 3  Fold 4  Fold 5  Mean    Std                                     \n",
      "RMSE (testset)    0.2933  0.2950  0.2936  0.2968  0.2985  0.2955  0.0020  \n",
      "MAE (testset)     0.1876  0.1891  0.1872  0.1861  0.1882  0.1876  0.0010  \n",
      "MSE (testset)     0.0860  0.0871  0.0862  0.0881  0.0891  0.0873  0.0012  \n",
      "Fit time          5.79    4.50    5.73    4.58    5.69    5.26    0.59    \n",
      "Test time         0.09    0.09    0.09    0.09    0.09    0.09    0.00    \n",
      "Evaluating RMSE, MAE, MSE of algorithm SVD on 5 split(s).                                                 \n",
      "                  Fold 1  Fold 2  Fold 3  Fold 4  Fold 5  Mean    Std                                     \n",
      "RMSE (testset)    0.3132  0.3180  0.3188  0.3137  0.3120  0.3151  0.0027  \n",
      "MAE (testset)     0.1983  0.2006  0.1996  0.1983  0.1969  0.1988  0.0013  \n",
      "MSE (testset)     0.0981  0.1011  0.1017  0.0984  0.0973  0.0993  0.0017  \n",
      "Fit time          3.71    2.92    3.60    3.10    3.86    3.44    0.36    \n",
      "Test time         0.09    0.09    0.08    0.09    0.09    0.09    0.00    \n",
      "Evaluating RMSE, MAE, MSE of algorithm SVD on 5 split(s).                                                 \n",
      "                  Fold 1  Fold 2  Fold 3  Fold 4  Fold 5  Mean    Std                                     \n",
      "RMSE (testset)    0.2925  0.2934  0.3006  0.2996  0.2933  0.2959  0.0035  \n",
      "MAE (testset)     0.1888  0.1908  0.1901  0.1885  0.1900  0.1896  0.0008  \n",
      "MSE (testset)     0.0855  0.0861  0.0903  0.0898  0.0860  0.0876  0.0021  \n",
      "Fit time          3.32    2.79    3.37    2.79    3.39    3.13    0.28    \n",
      "Test time         0.22    0.19    0.09    0.09    0.09    0.13    0.06    \n",
      "Evaluating RMSE, MAE, MSE of algorithm SVD on 5 split(s).                                                 \n",
      "                  Fold 1  Fold 2  Fold 3  Fold 4  Fold 5  Mean    Std                                     \n",
      "RMSE (testset)    0.3057  0.3047  0.3026  0.2985  0.3044  0.3032  0.0025  \n",
      "MAE (testset)     0.1934  0.1952  0.1929  0.1920  0.1919  0.1931  0.0012  \n",
      "MSE (testset)     0.0934  0.0928  0.0915  0.0891  0.0926  0.0919  0.0015  \n",
      "Fit time          3.93    3.14    3.89    3.15    3.93    3.60    0.38    \n",
      "Test time         0.09    0.09    0.09    0.09    0.09    0.09    0.00    \n",
      "Evaluating RMSE, MAE, MSE of algorithm SVD on 5 split(s).                                                 \n",
      "                  Fold 1  Fold 2  Fold 3  Fold 4  Fold 5  Mean    Std                                     \n",
      "RMSE (testset)    0.2953  0.3073  0.3059  0.3141  0.3028  0.3051  0.0061  \n",
      "MAE (testset)     0.1913  0.1956  0.1936  0.1980  0.1941  0.1945  0.0022  \n",
      "MSE (testset)     0.0872  0.0944  0.0936  0.0986  0.0917  0.0931  0.0037  \n",
      "Fit time          0.58    0.53    0.73    0.49    0.59    0.58    0.08    \n",
      "Test time         0.08    0.09    0.08    0.18    0.20    0.13    0.05    \n",
      "Evaluating RMSE, MAE, MSE of algorithm SVD on 5 split(s).                                                 \n",
      "                  Fold 1  Fold 2  Fold 3  Fold 4  Fold 5  Mean    Std                                     \n",
      "RMSE (testset)    0.3031  0.2958  0.2960  0.2940  0.2965  0.2971  0.0031  \n",
      "MAE (testset)     0.1932  0.1925  0.1913  0.1890  0.1898  0.1912  0.0016  \n",
      "MSE (testset)     0.0918  0.0875  0.0876  0.0864  0.0879  0.0883  0.0019  \n",
      "Fit time          4.54    3.41    4.50    3.60    4.33    4.07    0.48    \n",
      "Test time         0.09    0.09    0.09    0.09    0.09    0.09    0.00    \n",
      "Evaluating RMSE, MAE, MSE of algorithm SVD on 5 split(s).                                                 \n",
      "                  Fold 1  Fold 2  Fold 3  Fold 4  Fold 5  Mean    Std                                     \n",
      "RMSE (testset)    0.2981  0.2997  0.3028  0.3034  0.2959  0.3000  0.0028  \n",
      "MAE (testset)     0.1911  0.1917  0.1925  0.1930  0.1917  0.1920  0.0007  \n",
      "MSE (testset)     0.0888  0.0898  0.0917  0.0921  0.0876  0.0900  0.0017  \n",
      "Fit time          6.66    5.31    6.55    5.20    6.25    5.99    0.62    \n",
      "Test time         0.23    0.19    0.09    0.09    0.08    0.14    0.06    \n",
      "Evaluating RMSE, MAE, MSE of algorithm SVD on 5 split(s).                                                 \n",
      "                  Fold 1  Fold 2  Fold 3  Fold 4  Fold 5  Mean    Std                                     \n",
      "RMSE (testset)    0.2907  0.2952  0.2991  0.2998  0.2950  0.2960  0.0033  \n",
      "MAE (testset)     0.1893  0.1893  0.1902  0.1902  0.1909  0.1900  0.0006  \n",
      "MSE (testset)     0.0845  0.0871  0.0895  0.0899  0.0871  0.0876  0.0019  \n",
      "Fit time          2.97    2.09    2.91    2.32    3.02    2.66    0.38    \n",
      "Test time         0.09    0.09    0.09    0.09    0.09    0.09    0.00    \n",
      "Evaluating RMSE, MAE, MSE of algorithm SVD on 5 split(s).                                                 \n",
      "                  Fold 1  Fold 2  Fold 3  Fold 4  Fold 5  Mean    Std                                     \n",
      "RMSE (testset)    0.3003  0.3125  0.2979  0.2998  0.2996  0.3020  0.0053  \n",
      "MAE (testset)     0.1910  0.1923  0.1899  0.1923  0.1916  0.1914  0.0009  \n",
      "MSE (testset)     0.0902  0.0976  0.0887  0.0899  0.0897  0.0912  0.0032  \n",
      "Fit time          9.22    6.79    9.17    7.26    9.13    8.31    1.06    \n",
      "Test time         0.09    0.09    0.09    0.09    0.09    0.09    0.00    \n",
      "Evaluating RMSE, MAE, MSE of algorithm SVD on 5 split(s).                                                 \n",
      "                  Fold 1  Fold 2  Fold 3  Fold 4  Fold 5  Mean    Std                                     \n",
      "RMSE (testset)    0.3243  0.3244  0.3263  0.3319  0.3294  0.3273  0.0030  \n",
      "MAE (testset)     0.2054  0.2063  0.2082  0.2082  0.2066  0.2069  0.0011  \n",
      "MSE (testset)     0.1052  0.1052  0.1065  0.1101  0.1085  0.1071  0.0019  \n",
      "Fit time          8.00    6.42    8.20    6.61    8.23    7.49    0.80    \n",
      "Test time         0.22    0.09    0.09    0.19    0.09    0.14    0.06    \n",
      "Evaluating RMSE, MAE, MSE of algorithm SVD on 5 split(s).                                                 \n",
      "                  Fold 1  Fold 2  Fold 3  Fold 4  Fold 5  Mean    Std                                     \n",
      "RMSE (testset)    0.2928  0.2887  0.3038  0.2975  0.3007  0.2967  0.0054  \n",
      "MAE (testset)     0.1877  0.1866  0.1904  0.1886  0.1903  0.1887  0.0015  \n",
      "MSE (testset)     0.0857  0.0833  0.0923  0.0885  0.0904  0.0881  0.0032  \n",
      "Fit time          0.48    0.35    0.42    0.32    0.52    0.42    0.08    \n",
      "Test time         0.09    0.08    0.08    0.08    0.08    0.08    0.00    \n",
      "Evaluating RMSE, MAE, MSE of algorithm SVD on 5 split(s).                                                 \n",
      "                  Fold 1  Fold 2  Fold 3  Fold 4  Fold 5  Mean    Std                                     \n",
      "RMSE (testset)    0.2945  0.2935  0.2925  0.3062  0.2940  0.2961  0.0051  \n",
      "MAE (testset)     0.1901  0.1892  0.1883  0.1923  0.1882  0.1896  0.0015  \n",
      "MSE (testset)     0.0867  0.0861  0.0856  0.0938  0.0864  0.0877  0.0031  \n",
      "Fit time          3.30    2.72    3.56    2.63    3.50    3.14    0.39    \n",
      "Test time         0.08    0.09    0.23    0.20    0.21    0.16    0.06    \n",
      "Evaluating RMSE, MAE, MSE of algorithm SVD on 5 split(s).                                                 \n",
      "                  Fold 1  Fold 2  Fold 3  Fold 4  Fold 5  Mean    Std                                     \n",
      "RMSE (testset)    0.2981  0.2955  0.3036  0.3017  0.2973  0.2992  0.0030  \n",
      "MAE (testset)     0.1914  0.1905  0.1909  0.1912  0.1895  0.1907  0.0007  \n",
      "MSE (testset)     0.0889  0.0873  0.0922  0.0910  0.0884  0.0896  0.0018  \n",
      "Fit time          12.09   9.22    11.88   9.64    12.00   10.97   1.27    \n",
      "Test time         0.08    0.09    0.09    0.09    0.09    0.09    0.00    \n",
      "Evaluating RMSE, MAE, MSE of algorithm SVD on 5 split(s).                                                 \n",
      "                  Fold 1  Fold 2  Fold 3  Fold 4  Fold 5  Mean    Std                                     \n",
      "RMSE (testset)    0.3046  0.2975  0.2939  0.3007  0.2856  0.2965  0.0065  \n",
      "MAE (testset)     0.1897  0.1869  0.1877  0.1892  0.1858  0.1879  0.0015  \n",
      "MSE (testset)     0.0928  0.0885  0.0864  0.0904  0.0816  0.0879  0.0038  \n",
      "Fit time          12.11   10.13   12.04   10.25   12.02   11.31   0.92    \n",
      "Test time         0.22    0.18    0.09    0.09    0.09    0.13    0.06    \n",
      "100%|██████████████████████████████████| 20/20 [09:28<00:00, 28.42s/trial, best loss: 0.29545557249412063]\n"
     ]
    },
    {
     "data": {
      "text/html": [
       "<pre style=\"white-space:pre;overflow-x:auto;line-height:normal;font-family:Menlo,'DejaVu Sans Mono',consolas,'Courier New',monospace\">----Done!----\n",
       "</pre>\n"
      ],
      "text/plain": [
       "----Done!----\n"
      ]
     },
     "metadata": {},
     "output_type": "display_data"
    },
    {
     "data": {
      "text/html": [
       "<pre style=\"white-space:pre;overflow-x:auto;line-height:normal;font-family:Menlo,'DejaVu Sans Mono',consolas,'Courier New',monospace\">Best algorithm: svd\n",
       "</pre>\n"
      ],
      "text/plain": [
       "Best algorithm: svd\n"
      ]
     },
     "metadata": {},
     "output_type": "display_data"
    },
    {
     "data": {
      "text/html": [
       "<pre style=\"white-space:pre;overflow-x:auto;line-height:normal;font-family:Menlo,'DejaVu Sans Mono',consolas,'Courier New',monospace\">Best hyperparameters: <span style=\"font-weight: bold\">{</span><span style=\"color: #008000; text-decoration-color: #008000\">'lr_bi'</span>: <span style=\"color: #008080; text-decoration-color: #008080; font-weight: bold\">0.0026091015953433926</span>, <span style=\"color: #008000; text-decoration-color: #008000\">'lr_bu'</span>: <span style=\"color: #008080; text-decoration-color: #008080; font-weight: bold\">0.0005280929964239043</span>, <span style=\"color: #008000; text-decoration-color: #008000\">'lr_pu'</span>: \n",
       "<span style=\"color: #008080; text-decoration-color: #008080; font-weight: bold\">0.01314852295352534</span>, <span style=\"color: #008000; text-decoration-color: #008000\">'lr_qi'</span>: <span style=\"color: #008080; text-decoration-color: #008080; font-weight: bold\">0.027761447092886575</span>, <span style=\"color: #008000; text-decoration-color: #008000\">'n_epochs'</span>: <span style=\"color: #008080; text-decoration-color: #008080; font-weight: bold\">110</span>, <span style=\"color: #008000; text-decoration-color: #008000\">'n_factors'</span>: <span style=\"color: #008080; text-decoration-color: #008080; font-weight: bold\">79</span>, <span style=\"color: #008000; text-decoration-color: #008000\">'reg_bi'</span>: \n",
       "<span style=\"color: #008080; text-decoration-color: #008080; font-weight: bold\">0.003163318480771626</span>, <span style=\"color: #008000; text-decoration-color: #008000\">'reg_bu'</span>: <span style=\"color: #008080; text-decoration-color: #008080; font-weight: bold\">0.09706485078334093</span>, <span style=\"color: #008000; text-decoration-color: #008000\">'reg_pu'</span>: <span style=\"color: #008080; text-decoration-color: #008080; font-weight: bold\">0.001501289759229521</span>, <span style=\"color: #008000; text-decoration-color: #008000\">'reg_qi'</span>: <span style=\"color: #008080; text-decoration-color: #008080; font-weight: bold\">0.03204258644534104</span><span style=\"font-weight: bold\">}</span>\n",
       "</pre>\n"
      ],
      "text/plain": [
       "Best hyperparameters: \u001b[1m{\u001b[0m\u001b[32m'lr_bi'\u001b[0m: \u001b[1;36m0.0026091015953433926\u001b[0m, \u001b[32m'lr_bu'\u001b[0m: \u001b[1;36m0.0005280929964239043\u001b[0m, \u001b[32m'lr_pu'\u001b[0m: \n",
       "\u001b[1;36m0.01314852295352534\u001b[0m, \u001b[32m'lr_qi'\u001b[0m: \u001b[1;36m0.027761447092886575\u001b[0m, \u001b[32m'n_epochs'\u001b[0m: \u001b[1;36m110\u001b[0m, \u001b[32m'n_factors'\u001b[0m: \u001b[1;36m79\u001b[0m, \u001b[32m'reg_bi'\u001b[0m: \n",
       "\u001b[1;36m0.003163318480771626\u001b[0m, \u001b[32m'reg_bu'\u001b[0m: \u001b[1;36m0.09706485078334093\u001b[0m, \u001b[32m'reg_pu'\u001b[0m: \u001b[1;36m0.001501289759229521\u001b[0m, \u001b[32m'reg_qi'\u001b[0m: \u001b[1;36m0.03204258644534104\u001b[0m\u001b[1m}\u001b[0m\n"
      ]
     },
     "metadata": {},
     "output_type": "display_data"
    },
    {
     "data": {
      "text/html": [
       "<pre style=\"white-space:pre;overflow-x:auto;line-height:normal;font-family:Menlo,'DejaVu Sans Mono',consolas,'Courier New',monospace\">┏━━━━━━━━━━━┳━━━━━━━━━━━━━━━━━━━━━━━━━━━━━━━━━━━━━━━━━━━━━━━━━━━━━━━━━━━━━━━━━━━━━━━━━━━━━━━┳━━━━━━━━━━━━━━━━━━━━━┓\n",
       "┃<span style=\"color: #800080; text-decoration-color: #800080; font-weight: bold\"> Algorithm </span>┃<span style=\"color: #800080; text-decoration-color: #800080; font-weight: bold\"> Hyperparameters                                                               </span>┃<span style=\"color: #800080; text-decoration-color: #800080; font-weight: bold\">                Loss </span>┃\n",
       "┡━━━━━━━━━━━╇━━━━━━━━━━━━━━━━━━━━━━━━━━━━━━━━━━━━━━━━━━━━━━━━━━━━━━━━━━━━━━━━━━━━━━━━━━━━━━━╇━━━━━━━━━━━━━━━━━━━━━┩\n",
       "│ svd       │ {'lr_bi': 0.0026091015953433926, 'lr_bu': 0.0005280929964239043, 'lr_pu':     │ 0.29545557249412063 │\n",
       "│           │ 0.01314852295352534, 'lr_qi': 0.027761447092886575, 'n_epochs': 110,          │                     │\n",
       "│           │ 'n_factors': 79, 'reg_bi': 0.003163318480771626, 'reg_bu':                    │                     │\n",
       "│           │ 0.09706485078334093, 'reg_pu': 0.001501289759229521, 'reg_qi':                │                     │\n",
       "│           │ 0.03204258644534104}                                                          │                     │\n",
       "└───────────┴───────────────────────────────────────────────────────────────────────────────┴─────────────────────┘\n",
       "</pre>\n"
      ],
      "text/plain": [
       "┏━━━━━━━━━━━┳━━━━━━━━━━━━━━━━━━━━━━━━━━━━━━━━━━━━━━━━━━━━━━━━━━━━━━━━━━━━━━━━━━━━━━━━━━━━━━━┳━━━━━━━━━━━━━━━━━━━━━┓\n",
       "┃\u001b[1;35m \u001b[0m\u001b[1;35mAlgorithm\u001b[0m\u001b[1;35m \u001b[0m┃\u001b[1;35m \u001b[0m\u001b[1;35mHyperparameters                                                              \u001b[0m\u001b[1;35m \u001b[0m┃\u001b[1;35m \u001b[0m\u001b[1;35m               Loss\u001b[0m\u001b[1;35m \u001b[0m┃\n",
       "┡━━━━━━━━━━━╇━━━━━━━━━━━━━━━━━━━━━━━━━━━━━━━━━━━━━━━━━━━━━━━━━━━━━━━━━━━━━━━━━━━━━━━━━━━━━━━╇━━━━━━━━━━━━━━━━━━━━━┩\n",
       "│ svd       │ {'lr_bi': 0.0026091015953433926, 'lr_bu': 0.0005280929964239043, 'lr_pu':     │ 0.29545557249412063 │\n",
       "│           │ 0.01314852295352534, 'lr_qi': 0.027761447092886575, 'n_epochs': 110,          │                     │\n",
       "│           │ 'n_factors': 79, 'reg_bi': 0.003163318480771626, 'reg_bu':                    │                     │\n",
       "│           │ 0.09706485078334093, 'reg_pu': 0.001501289759229521, 'reg_qi':                │                     │\n",
       "│           │ 0.03204258644534104}                                                          │                     │\n",
       "└───────────┴───────────────────────────────────────────────────────────────────────────────┴─────────────────────┘\n"
      ]
     },
     "metadata": {},
     "output_type": "display_data"
    },
    {
     "data": {
      "text/html": [
       "<pre style=\"white-space:pre;overflow-x:auto;line-height:normal;font-family:Menlo,'DejaVu Sans Mono',consolas,'Courier New',monospace\">auto_surprise <span style=\"color: #008080; text-decoration-color: #008080; font-weight: bold\">0.1</span>.<span style=\"color: #008080; text-decoration-color: #008080; font-weight: bold\">9</span>\n",
       "</pre>\n"
      ],
      "text/plain": [
       "auto_surprise \u001b[1;36m0.1\u001b[0m.\u001b[1;36m9\u001b[0m\n"
      ]
     },
     "metadata": {},
     "output_type": "display_data"
    },
    {
     "data": {
      "text/html": [
       "<pre style=\"white-space:pre;overflow-x:auto;line-height:normal;font-family:Menlo,'DejaVu Sans Mono',consolas,'Courier New',monospace\">Available CPUs: <span style=\"color: #008080; text-decoration-color: #008080; font-weight: bold\">32</span>\n",
       "</pre>\n"
      ],
      "text/plain": [
       "Available CPUs: \u001b[1;36m32\u001b[0m\n"
      ]
     },
     "metadata": {},
     "output_type": "display_data"
    },
    {
     "name": "stdout",
     "output_type": "stream",
     "text": [
      "Evaluating RMSE, MAE, MSE of algorithm NormalPredictor on 5 split(s).\n",
      "\n",
      "                  Fold 1  Fold 2  Fold 3  Fold 4  Fold 5  Mean    Std     \n",
      "RMSE (testset)    0.4140  0.4191  0.4194  0.4191  0.4167  0.4177  0.0021  \n",
      "MAE (testset)     0.3088  0.3105  0.3087  0.3099  0.3095  0.3095  0.0007  \n",
      "MSE (testset)     0.1714  0.1757  0.1759  0.1757  0.1737  0.1744  0.0017  \n",
      "Fit time          0.09    0.10    0.12    0.11    0.12    0.11    0.01    \n",
      "Test time         0.22    0.07    0.07    0.19    0.07    0.13    0.07    \n"
     ]
    },
    {
     "data": {
      "text/html": [
       "<pre style=\"white-space:pre;overflow-x:auto;line-height:normal;font-family:Menlo,'DejaVu Sans Mono',consolas,'Courier New',monospace\">Baseline loss: <span style=\"color: #008080; text-decoration-color: #008080; font-weight: bold\">0.41766548792467184</span>\n",
       "</pre>\n"
      ],
      "text/plain": [
       "Baseline loss: \u001b[1;36m0.41766548792467184\u001b[0m\n"
      ]
     },
     "metadata": {},
     "output_type": "display_data"
    },
    {
     "name": "stdout",
     "output_type": "stream",
     "text": [
      "Starting process with svdpp algorithm\n",
      "Evaluating RMSE, MAE, MSE of algorithm SVDpp on 5 split(s).                                               \n",
      "                  Fold 1  Fold 2  Fold 3  Fold 4  Fold 5  Mean    Std                                     \n",
      "RMSE (testset)    0.2932  0.2968  0.3030  0.3089  0.2973  0.2998  0.0055  \n",
      "MAE (testset)     0.1961  0.1984  0.1983  0.2001  0.1988  0.1983  0.0013  \n",
      "MSE (testset)     0.0860  0.0881  0.0918  0.0954  0.0884  0.0899  0.0033  \n",
      "Fit time          27.36   25.52   27.63   25.55   27.27   26.67   0.93    \n",
      "Test time         0.15    0.14    0.14    0.14    0.14    0.15    0.00    \n",
      "Evaluating RMSE, MAE, MSE of algorithm SVDpp on 5 split(s).                                               \n",
      "                  Fold 1  Fold 2  Fold 3  Fold 4  Fold 5  Mean    Std                                     \n",
      "RMSE (testset)    0.3145  0.3131  0.3090  0.3142  0.3071  0.3116  0.0030  \n",
      "MAE (testset)     0.2067  0.2041  0.2055  0.2081  0.2106  0.2070  0.0022  \n",
      "MSE (testset)     0.0989  0.0980  0.0955  0.0987  0.0943  0.0971  0.0019  \n",
      "Fit time          15.82   14.49   16.02   14.84   16.05   15.44   0.65    \n",
      "Test time         0.27    0.25    0.14    0.14    0.14    0.19    0.06    \n",
      "Evaluating RMSE, MAE, MSE of algorithm SVDpp on 5 split(s).                                               \n",
      "                  Fold 1  Fold 2  Fold 3  Fold 4  Fold 5  Mean    Std                                     \n",
      "RMSE (testset)    0.2932  0.3006  0.2991  0.3072  0.3036  0.3007  0.0047  \n",
      "MAE (testset)     0.1948  0.1995  0.1976  0.1988  0.1996  0.1980  0.0018  \n",
      "MSE (testset)     0.0860  0.0904  0.0895  0.0944  0.0922  0.0905  0.0028  \n",
      "Fit time          9.18    8.19    9.24    8.21    9.46    8.86    0.54    \n",
      "Test time         0.14    0.13    0.14    0.13    0.13    0.13    0.00    \n",
      "Evaluating RMSE, MAE, MSE of algorithm SVDpp on 5 split(s).                                               \n",
      "                  Fold 1  Fold 2  Fold 3  Fold 4  Fold 5  Mean    Std                                     \n",
      "RMSE (testset)    0.3106  0.2983  0.3034  0.2989  0.3009  0.3024  0.0045  \n",
      "MAE (testset)     0.2061  0.2017  0.2037  0.2020  0.2036  0.2034  0.0016  \n",
      "MSE (testset)     0.0965  0.0890  0.0921  0.0893  0.0905  0.0915  0.0027  \n",
      "Fit time          4.58    4.07    4.49    4.05    4.44    4.33    0.22    \n",
      "Test time         0.13    0.13    0.26    0.23    0.13    0.18    0.06    \n",
      "Evaluating RMSE, MAE, MSE of algorithm SVDpp on 5 split(s).                                               \n",
      "                  Fold 1  Fold 2  Fold 3  Fold 4  Fold 5  Mean    Std                                     \n",
      "RMSE (testset)    0.3199  0.3181  0.3157  0.3142  0.3189  0.3174  0.0021  \n",
      "MAE (testset)     0.2018  0.2025  0.2027  0.2016  0.2015  0.2020  0.0005  \n",
      "MSE (testset)     0.1023  0.1012  0.0997  0.0987  0.1017  0.1007  0.0013  \n",
      "Fit time          8.18    7.22    8.24    7.31    8.14    7.82    0.46    \n",
      "Test time         0.14    0.13    0.13    0.13    0.13    0.13    0.00    \n",
      "Evaluating RMSE, MAE, MSE of algorithm SVDpp on 5 split(s).                                               \n",
      "                  Fold 1  Fold 2  Fold 3  Fold 4  Fold 5  Mean    Std                                     \n",
      "RMSE (testset)    0.3053  0.2971  0.2951  0.2965  0.2936  0.2975  0.0041  \n",
      "MAE (testset)     0.1939  0.1924  0.1919  0.1918  0.1906  0.1921  0.0011  \n",
      "MSE (testset)     0.0932  0.0883  0.0871  0.0879  0.0862  0.0885  0.0024  \n",
      "Fit time          11.42   10.04   11.28   10.27   11.37   10.88   0.59    \n",
      "Test time         0.13    0.25    0.13    0.24    0.13    0.18    0.06    \n",
      "Evaluating RMSE, MAE, MSE of algorithm SVDpp on 5 split(s).                                               \n",
      "                  Fold 1  Fold 2  Fold 3  Fold 4  Fold 5  Mean    Std                                     \n",
      "RMSE (testset)    0.3107  0.3160  0.3213  0.3175  0.3108  0.3152  0.0041  \n",
      "MAE (testset)     0.2003  0.1995  0.2022  0.2023  0.2012  0.2011  0.0011  \n",
      "MSE (testset)     0.0965  0.0998  0.1032  0.1008  0.0966  0.0994  0.0026  \n",
      "Fit time          18.10   16.36   17.66   15.98   17.86   17.19   0.86    \n",
      "Test time         0.13    0.13    0.13    0.13    0.13    0.13    0.00    \n",
      "Evaluating RMSE, MAE, MSE of algorithm SVDpp on 5 split(s).                                               \n",
      "                  Fold 1  Fold 2  Fold 3  Fold 4  Fold 5  Mean    Std                                     \n",
      "RMSE (testset)    0.2921  0.2896  0.3018  0.2956  0.2926  0.2943  0.0042  \n",
      "MAE (testset)     0.1882  0.1879  0.1885  0.1867  0.1881  0.1879  0.0006  \n",
      "MSE (testset)     0.0853  0.0838  0.0911  0.0874  0.0856  0.0866  0.0025  \n",
      "Fit time          17.04   15.17   17.23   15.33   17.37   16.43   0.97    \n",
      "Test time         0.13    0.13    0.13    0.25    0.25    0.18    0.06    \n",
      "Evaluating RMSE, MAE, MSE of algorithm SVDpp on 5 split(s).                                               \n",
      "                  Fold 1  Fold 2  Fold 3  Fold 4  Fold 5  Mean    Std                                     \n",
      "RMSE (testset)    0.3040  0.3120  0.3065  0.3014  0.3022  0.3052  0.0038  \n",
      "MAE (testset)     0.1942  0.1961  0.1937  0.1959  0.1929  0.1946  0.0012  \n",
      "MSE (testset)     0.0924  0.0974  0.0940  0.0908  0.0913  0.0932  0.0023  \n",
      "Fit time          1.08    0.97    1.11    1.00    1.12    1.05    0.06    \n",
      "Test time         0.13    0.13    0.13    0.13    0.13    0.13    0.00    \n",
      "Evaluating RMSE, MAE, MSE of algorithm SVDpp on 5 split(s).                                               \n",
      "                  Fold 1  Fold 2  Fold 3  Fold 4  Fold 5  Mean    Std                                     \n",
      "RMSE (testset)    0.3108  0.3161  0.3102  0.3162  0.3080  0.3123  0.0033  \n",
      "MAE (testset)     0.2010  0.2038  0.2022  0.2039  0.2007  0.2023  0.0013  \n",
      "MSE (testset)     0.0966  0.0999  0.0962  0.1000  0.0948  0.0975  0.0021  \n",
      "Fit time          8.14    6.88    7.87    6.94    7.81    7.53    0.52    \n",
      "Test time         0.13    0.25    0.25    0.13    0.13    0.18    0.06    \n",
      "Evaluating RMSE, MAE, MSE of algorithm SVDpp on 5 split(s).                                               \n",
      "                  Fold 1  Fold 2  Fold 3  Fold 4  Fold 5  Mean    Std                                     \n",
      "RMSE (testset)    0.3057  0.2966  0.3044  0.3018  0.3013  0.3020  0.0031  \n",
      "MAE (testset)     0.1913  0.1934  0.1917  0.1912  0.1951  0.1925  0.0015  \n",
      "MSE (testset)     0.0935  0.0880  0.0927  0.0911  0.0908  0.0912  0.0019  \n",
      "Fit time          6.43    4.86    6.58    5.41    6.25    5.90    0.66    \n",
      "Test time         0.13    0.13    0.13    0.13    0.13    0.13    0.00    \n",
      "Evaluating RMSE, MAE, MSE of algorithm SVDpp on 5 split(s).                                               \n",
      "                  Fold 1  Fold 2  Fold 3  Fold 4  Fold 5  Mean    Std                                     \n",
      "RMSE (testset)    0.3292  0.3279  0.3246  0.3280  0.3249  0.3269  0.0018  \n",
      "MAE (testset)     0.2133  0.2137  0.2135  0.2144  0.2128  0.2135  0.0005  \n",
      "MSE (testset)     0.1084  0.1075  0.1053  0.1076  0.1056  0.1069  0.0012  \n",
      "Fit time          6.11    5.40    6.22    5.38    6.02    5.83    0.36    \n",
      "Test time         0.13    0.13    0.13    0.15    0.13    0.13    0.01    \n",
      "Evaluating RMSE, MAE, MSE of algorithm SVDpp on 5 split(s).                                               \n",
      "                  Fold 1  Fold 2  Fold 3  Fold 4  Fold 5  Mean    Std                                     \n",
      "RMSE (testset)    0.3019  0.3038  0.3096  0.3063  0.2994  0.3042  0.0035  \n",
      "MAE (testset)     0.1949  0.1969  0.1976  0.1986  0.1959  0.1968  0.0013  \n",
      "MSE (testset)     0.0912  0.0923  0.0958  0.0938  0.0896  0.0925  0.0021  \n",
      "Fit time          21.51   19.67   21.68   19.71   21.64   20.84   0.94    \n",
      "Test time         0.14    0.14    0.13    0.13    0.14    0.14    0.00    \n",
      "Evaluating RMSE, MAE, MSE of algorithm SVDpp on 5 split(s).                                               \n",
      "                  Fold 1  Fold 2  Fold 3  Fold 4  Fold 5  Mean    Std                                     \n",
      "RMSE (testset)    0.3005  0.2998  0.2937  0.2940  0.2925  0.2961  0.0033  \n",
      "MAE (testset)     0.1918  0.1934  0.1896  0.1908  0.1892  0.1910  0.0015  \n",
      "MSE (testset)     0.0903  0.0899  0.0862  0.0864  0.0856  0.0877  0.0020  \n",
      "Fit time          11.51   9.98    11.87   10.50   11.96   11.16   0.79    \n",
      "Test time         0.13    0.13    0.13    0.13    0.13    0.13    0.00    \n",
      "Evaluating RMSE, MAE, MSE of algorithm SVDpp on 5 split(s).                                               \n",
      "                  Fold 1  Fold 2  Fold 3  Fold 4  Fold 5  Mean    Std                                     \n",
      "RMSE (testset)    0.3076  0.3002  0.3057  0.2976  0.2928  0.3008  0.0054  \n",
      "MAE (testset)     0.2001  0.1995  0.2006  0.1966  0.1953  0.1984  0.0021  \n",
      "MSE (testset)     0.0946  0.0901  0.0934  0.0886  0.0857  0.0905  0.0032  \n",
      "Fit time          14.38   13.22   14.26   13.42   14.71   14.00   0.58    \n",
      "Test time         0.14    0.14    0.14    0.14    0.14    0.14    0.00    \n",
      "Evaluating RMSE, MAE, MSE of algorithm SVDpp on 5 split(s).                                               \n",
      "                  Fold 1  Fold 2  Fold 3  Fold 4  Fold 5  Mean    Std                                     \n",
      "RMSE (testset)    0.3068  0.3085  0.3109  0.3133  0.3189  0.3117  0.0042  \n",
      "MAE (testset)     0.2018  0.1990  0.2002  0.2015  0.2035  0.2012  0.0015  \n",
      "MSE (testset)     0.0941  0.0952  0.0966  0.0981  0.1017  0.0972  0.0027  \n",
      "Fit time          24.09   21.56   23.85   21.78   23.59   22.98   1.08    \n",
      "Test time         0.14    0.14    0.14    0.14    0.14    0.14    0.00    \n",
      "Evaluating RMSE, MAE, MSE of algorithm SVDpp on 5 split(s).                                               \n",
      "                  Fold 1  Fold 2  Fold 3  Fold 4  Fold 5  Mean    Std                                     \n",
      "RMSE (testset)    0.3175  0.3180  0.3307  0.3163  0.3137  0.3193  0.0059  \n",
      "MAE (testset)     0.1993  0.2002  0.2045  0.2003  0.1996  0.2008  0.0019  \n",
      "MSE (testset)     0.1008  0.1011  0.1094  0.1001  0.0984  0.1020  0.0038  \n",
      "Fit time          8.42    6.96    8.73    7.32    8.34    7.95    0.69    \n",
      "Test time         0.28    0.25    0.13    0.13    0.13    0.18    0.07    \n",
      "Evaluating RMSE, MAE, MSE of algorithm SVDpp on 5 split(s).                                               \n",
      "                  Fold 1  Fold 2  Fold 3  Fold 4  Fold 5  Mean    Std                                     \n",
      "RMSE (testset)    0.3030  0.3023  0.3112  0.3116  0.3066  0.3070  0.0039  \n",
      "MAE (testset)     0.1978  0.1965  0.1987  0.2002  0.1990  0.1984  0.0012  \n",
      "MSE (testset)     0.0918  0.0914  0.0968  0.0971  0.0940  0.0942  0.0024  \n",
      "Fit time          2.31    2.06    2.35    2.08    2.28    2.21    0.12    \n",
      "Test time         0.13    0.14    0.13    0.13    0.13    0.13    0.00    \n",
      "Evaluating RMSE, MAE, MSE of algorithm SVDpp on 5 split(s).                                               \n",
      "                  Fold 1  Fold 2  Fold 3  Fold 4  Fold 5  Mean    Std                                     \n",
      "RMSE (testset)    0.3095  0.3195  0.3194  0.3196  0.3198  0.3176  0.0040  \n",
      "MAE (testset)     0.2095  0.2131  0.2136  0.2135  0.2136  0.2127  0.0016  \n",
      "MSE (testset)     0.0958  0.1021  0.1020  0.1021  0.1023  0.1009  0.0025  \n",
      "Fit time          1.71    1.62    1.70    1.63    1.71    1.67    0.04    \n",
      "Test time         0.15    0.14    0.27    0.25    0.15    0.19    0.06    \n",
      " 95%|████████████████████████████████▎ | 19/20 [18:07<00:39, 39.40s/trial, best loss: 0.29431712433251966]"
     ]
    }
   ],
   "source": [
    "for model in ['svd', 'svdpp', 'knn_basic', 'knn_with_means', 'knn_baseline']:\n",
    "    \n",
    "    engine = Engine(verbose=True, algorithms=[model])\n",
    "\n",
    "    best_algo, best_params, best_score, tasks = engine.train(\n",
    "        data=data,\n",
    "        target_metric='test_rmse',\n",
    "        cpu_time_limit=60*60*2,\n",
    "        max_evals=20,\n",
    "        hpo_algo=hyperopt.tpe.suggest\n",
    "    )\n",
    "        \n",
    "    path = model + 'auto_tune_results.json'\n",
    "    results = best_params\n",
    "    results['algo'] = best_algo\n",
    "    results['rmse'] = best_score\n",
    "\n",
    "    with open(path, 'w') as file:\n",
    "        file.write(json.dumps(results))\n",
    "        "
   ]
  },
  {
   "cell_type": "code",
   "execution_count": 3,
   "id": "a7337758-73ae-4724-88c4-cd45ebffa04f",
   "metadata": {},
   "outputs": [
    {
     "data": {
      "text/plain": [
       "{'lr_bi': 0.0026091015953433926,\n",
       " 'lr_bu': 0.0005280929964239043,\n",
       " 'lr_pu': 0.01314852295352534,\n",
       " 'lr_qi': 0.027761447092886575,\n",
       " 'n_epochs': 110,\n",
       " 'n_factors': 79,\n",
       " 'reg_bi': 0.003163318480771626,\n",
       " 'reg_bu': 0.09706485078334093,\n",
       " 'reg_pu': 0.001501289759229521,\n",
       " 'reg_qi': 0.03204258644534104,\n",
       " 'algo': 'svd',\n",
       " 'rmse': 0.29545557249412063}"
      ]
     },
     "execution_count": 3,
     "metadata": {},
     "output_type": "execute_result"
    }
   ],
   "source": [
    "#read results back in \n",
    "with open('svdauto_tune_results.json') as json_file:\n",
    "    data = json.load(json_file)\n",
    "data"
   ]
  },
  {
   "cell_type": "code",
   "execution_count": 4,
   "id": "30e2a5fd-fe05-4454-aa70-caa3f9ed1d04",
   "metadata": {},
   "outputs": [
    {
     "data": {
      "text/plain": [
       "{'lr_bi': 0.0005151212831720828,\n",
       " 'lr_bu': 0.0009288888065908822,\n",
       " 'lr_pu': 0.009868712726952077,\n",
       " 'lr_qi': 0.023835406402101852,\n",
       " 'lr_yj': 0.00015168489156722396,\n",
       " 'n_epochs': 181,\n",
       " 'n_factors': 87,\n",
       " 'reg_bi': 0.0003976840617776604,\n",
       " 'reg_bu': 0.005246827975729171,\n",
       " 'reg_pu': 0.00956582556158568,\n",
       " 'reg_qi': 0.0312118125180339,\n",
       " 'reg_yj': 0.08246206940085145,\n",
       " 'algo': 'svdpp',\n",
       " 'rmse': 0.29431712433251966}"
      ]
     },
     "execution_count": 4,
     "metadata": {},
     "output_type": "execute_result"
    }
   ],
   "source": [
    "#SVD PP\n",
    "with open('svdppauto_tune_results.json') as json_file:\n",
    "    data = json.load(json_file)\n",
    "data"
   ]
  },
  {
   "cell_type": "code",
   "execution_count": 5,
   "id": "68a828bf-f405-4bd0-95b3-511db19be9e2",
   "metadata": {},
   "outputs": [
    {
     "data": {
      "text/plain": [
       "{'bsl_options': {'method': 'als',\n",
       "  'n_epochs': 22,\n",
       "  'reg_i': 48.35241195444295,\n",
       "  'reg_u': 12.044236277774175},\n",
       " 'k': 438,\n",
       " 'min_k': 41,\n",
       " 'sim_options': {'name': 'pearson_baseline',\n",
       "  'user_based': False,\n",
       "  'min_support': 64,\n",
       "  'shrinkage': 230},\n",
       " 'algo': 'knn_baseline',\n",
       " 'rmse': 0.2952774453430375}"
      ]
     },
     "execution_count": 5,
     "metadata": {},
     "output_type": "execute_result"
    }
   ],
   "source": [
    "#KNN Baseline\n",
    "with open('2_5pctrun/knn_baselineauto_tune_results.json') as json_file:\n",
    "    data = json.load(json_file)\n",
    "data"
   ]
  },
  {
   "cell_type": "markdown",
   "id": "2146e020-b24f-4b6b-a626-66d9575e3e78",
   "metadata": {},
   "source": [
    "## Evaluate on group level model"
   ]
  },
  {
   "cell_type": "code",
   "execution_count": 37,
   "id": "a25737fc-ce1b-4f30-bf66-f7da9eb82a1f",
   "metadata": {},
   "outputs": [],
   "source": [
    "import time\n",
    "import seaborn as sns\n",
    "from surprise import SVD, SVDpp\n",
    "from surprise.prediction_algorithms.knns import KNNBasic, KNNWithMeans, KNNBaseline"
   ]
  },
  {
   "cell_type": "code",
   "execution_count": 38,
   "id": "f4800a28-522b-45b6-bc94-79c43b26b47e",
   "metadata": {},
   "outputs": [
    {
     "data": {
      "text/plain": [
       "54313700"
      ]
     },
     "execution_count": 38,
     "metadata": {},
     "output_type": "execute_result"
    }
   ],
   "source": [
    "#load in csv data\n",
    "raw_df_2020 = pd.read_csv('../../raw/input_runners_2020.csv')\n",
    "raw_df_2019 = pd.read_csv('../../raw/input_runners_2019.csv')\n",
    "\n",
    "raw_df = pd.concat([raw_df_2020,raw_df_2019])\n",
    "raw_df.size"
   ]
  },
  {
   "cell_type": "code",
   "execution_count": 39,
   "id": "54a7c2ee-a83b-4e92-9e5b-79c536788ee9",
   "metadata": {},
   "outputs": [
    {
     "data": {
      "text/plain": [
       "53825552"
      ]
     },
     "execution_count": 39,
     "metadata": {},
     "output_type": "execute_result"
    }
   ],
   "source": [
    "#convert months to number\n",
    "def mtn(x):\n",
    "    months = {\n",
    "        'jan': 1,\n",
    "        'feb': 2,\n",
    "        'mar': 3,\n",
    "        'apr':4,\n",
    "         'may':5,\n",
    "         'jun':6,\n",
    "         'jul':7,\n",
    "         'aug':8,\n",
    "         'sep':9,\n",
    "         'oct':10,\n",
    "         'nov':11,\n",
    "         'dec':12\n",
    "        }\n",
    "    a = x.strip()[:3].lower()\n",
    "    try:\n",
    "        ez = months[a]\n",
    "        return ez\n",
    "    except:\n",
    "        raise ValueError('Not a month')\n",
    "        \n",
    "raw_df[\"current_month\"] =  raw_df[\"current_month\"].apply(lambda x:mtn(x)) \n",
    "\n",
    "#create user ID\n",
    "raw_df[\"user_id\"] = raw_df[\"athlete\"].astype(str) + \".\" + raw_df[\"current_month\"].astype(str)\n",
    "\n",
    "#remove any missings from the data\n",
    "raw_df= raw_df[raw_df[\"prev_month_weekly_km\"].notna()]\n",
    "\n",
    "#remove 0s\n",
    "raw_df= raw_df[raw_df[\"prev_month_weekly_km\"]!=0]\n",
    "raw_df.size"
   ]
  },
  {
   "cell_type": "code",
   "execution_count": 40,
   "id": "b2e0fd80-34a8-4fed-b326-33b5c6b02075",
   "metadata": {},
   "outputs": [],
   "source": [
    "#function to weight rmse by pop numbers\n",
    "def weighted_results(model_name):   \n",
    "    graph_df = pd.concat([df1,df2,df3,df4,df5,df6])\n",
    "    graph_df[\"RMSE_weight\"] = graph_df[\"RMSE\"]*graph_df[\"athlete_count\"] \n",
    "    df = graph_df.groupby(['age_bucket','gender']).agg({'RMSE_weight':'sum','athlete_count':'sum'})\n",
    "    df[\"Weighted_RMSE\"] = df[\"RMSE_weight\"]/df[\"athlete_count\"]\n",
    "    print(model_name)\n",
    "    return df"
   ]
  },
  {
   "cell_type": "code",
   "execution_count": 47,
   "id": "acddfef6-17d7-46af-a0da-e55dcefb60c4",
   "metadata": {},
   "outputs": [
    {
     "data": {
      "text/plain": [
       "6"
      ]
     },
     "execution_count": 47,
     "metadata": {},
     "output_type": "execute_result"
    }
   ],
   "source": [
    "def filter_df(gender, age_bucket, start_km, min_num_athletes=10, function_name = KNNBasic, **kwargs):\n",
    "    \"\"\"\n",
    "    Function to evaluate collaborative filtering models, incrementing by 1km through km range for specific age group and gender\n",
    "    \"\"\"\n",
    "    \n",
    "    #Create empty dict for results\n",
    "    results_dict = {\n",
    "        'age_bucket': [],\n",
    "        'gender': [],\n",
    "        'weekly_target': [],\n",
    "        'RMSE': [],\n",
    "        'athlete_count': []\n",
    "    }\n",
    "\n",
    "    \n",
    "    #define objects for Surprise. Must be in user, item, rating order\n",
    "    filtered_df = raw_df.loc[\n",
    "        (raw_df['gender'] == gender) &\n",
    "        (raw_df['age_bucket'] == age_bucket) &\n",
    "        (raw_df['prev_month_weekly_days_run'] >= (4)) & \n",
    "        (raw_df['prev_month_weekly_days_run'] <= (7)) &\n",
    "        (raw_df['prev_month_weekly_km'] >= start_km-1) &\n",
    "        (raw_df['prev_month_weekly_km'] <= start_km+1)\n",
    "    ]\n",
    "        \n",
    "    return  filtered_df  \n",
    "\n",
    "df1 = filter_df(\"F\",\"18 - 34\",10,100, function_name=KNNBaseline)\n",
    "df1['athlete'].size"
   ]
  },
  {
   "cell_type": "code",
   "execution_count": 64,
   "id": "35a2f842-f1fb-4481-a78b-dd25631527ae",
   "metadata": {
    "tags": []
   },
   "outputs": [
    {
     "name": "stdout",
     "output_type": "stream",
     "text": [
      "insufficient data for F 18 - 34 11\n",
      "Finished in: 38.79423189163208\n",
      "insufficient data for M 18 - 34 11\n",
      "Finished in: 45.713014364242554\n",
      "Finished in: 39.80094790458679\n",
      "Finished in: 58.912473917007446\n",
      "insufficient data for F 55 + 10\n",
      "insufficient data for F 55 + 11\n",
      "insufficient data for F 55 + 12\n",
      "insufficient data for F 55 + 13\n",
      "insufficient data for F 55 + 14\n",
      "insufficient data for F 55 + 15\n",
      "insufficient data for F 55 + 18\n",
      "insufficient data for F 55 + 93\n",
      "insufficient data for F 55 + 94\n",
      "insufficient data for F 55 + 97\n",
      "insufficient data for F 55 + 98\n",
      "insufficient data for F 55 + 99\n",
      "insufficient data for F 55 + 100\n",
      "Finished in: 33.75628995895386\n",
      "insufficient data for M 55 + 10\n",
      "insufficient data for M 55 + 13\n",
      "insufficient data for M 55 + 14\n",
      "Finished in: 34.18601369857788\n",
      "KNN with Baseline\n"
     ]
    },
    {
     "data": {
      "text/html": [
       "<div>\n",
       "<style scoped>\n",
       "    .dataframe tbody tr th:only-of-type {\n",
       "        vertical-align: middle;\n",
       "    }\n",
       "\n",
       "    .dataframe tbody tr th {\n",
       "        vertical-align: top;\n",
       "    }\n",
       "\n",
       "    .dataframe thead th {\n",
       "        text-align: right;\n",
       "    }\n",
       "</style>\n",
       "<table border=\"1\" class=\"dataframe\">\n",
       "  <thead>\n",
       "    <tr style=\"text-align: right;\">\n",
       "      <th></th>\n",
       "      <th></th>\n",
       "      <th>RMSE_weight</th>\n",
       "      <th>athlete_count</th>\n",
       "      <th>Weighted_RMSE</th>\n",
       "    </tr>\n",
       "    <tr>\n",
       "      <th>age_bucket</th>\n",
       "      <th>gender</th>\n",
       "      <th></th>\n",
       "      <th></th>\n",
       "      <th></th>\n",
       "    </tr>\n",
       "  </thead>\n",
       "  <tbody>\n",
       "    <tr>\n",
       "      <th rowspan=\"2\" valign=\"top\">18 - 34</th>\n",
       "      <th>F</th>\n",
       "      <td>79630.641648</td>\n",
       "      <td>244318</td>\n",
       "      <td>0.325930</td>\n",
       "    </tr>\n",
       "    <tr>\n",
       "      <th>M</th>\n",
       "      <td>199693.186663</td>\n",
       "      <td>611362</td>\n",
       "      <td>0.326637</td>\n",
       "    </tr>\n",
       "    <tr>\n",
       "      <th rowspan=\"2\" valign=\"top\">35 - 54</th>\n",
       "      <th>F</th>\n",
       "      <td>97342.287343</td>\n",
       "      <td>283974</td>\n",
       "      <td>0.342786</td>\n",
       "    </tr>\n",
       "    <tr>\n",
       "      <th>M</th>\n",
       "      <td>393665.005302</td>\n",
       "      <td>1163970</td>\n",
       "      <td>0.338209</td>\n",
       "    </tr>\n",
       "    <tr>\n",
       "      <th rowspan=\"2\" valign=\"top\">55 +</th>\n",
       "      <th>F</th>\n",
       "      <td>10631.380452</td>\n",
       "      <td>27784</td>\n",
       "      <td>0.382644</td>\n",
       "    </tr>\n",
       "    <tr>\n",
       "      <th>M</th>\n",
       "      <td>51340.862761</td>\n",
       "      <td>142990</td>\n",
       "      <td>0.359052</td>\n",
       "    </tr>\n",
       "  </tbody>\n",
       "</table>\n",
       "</div>"
      ],
      "text/plain": [
       "                     RMSE_weight  athlete_count  Weighted_RMSE\n",
       "age_bucket gender                                             \n",
       "18 - 34    F        79630.641648         244318       0.325930\n",
       "           M       199693.186663         611362       0.326637\n",
       "35 - 54    F        97342.287343         283974       0.342786\n",
       "           M       393665.005302        1163970       0.338209\n",
       "55 +       F        10631.380452          27784       0.382644\n",
       "           M        51340.862761         142990       0.359052"
      ]
     },
     "execution_count": 64,
     "metadata": {},
     "output_type": "execute_result"
    }
   ],
   "source": [
    "#build function to run simulations\n",
    "\n",
    "def model_RMSE(gender, age_bucket, start_km, end_km, min_num_athletes=10, function_name = KNNBasic, **kwargs):\n",
    "    \"\"\"\n",
    "    Function to evaluate collaborative filtering models, incrementing by 1km through km range for specific age group and gender\n",
    "    \"\"\"\n",
    "    \n",
    "    #Create empty dict for results\n",
    "    results_dict = {\n",
    "        'age_bucket': [],\n",
    "        'gender': [],\n",
    "        'weekly_target': [],\n",
    "        'RMSE': [],\n",
    "        'athlete_count': []\n",
    "    }\n",
    "\n",
    "    start = time.time()\n",
    "    \n",
    "    for target_kms in range(start_km, end_km+1): \n",
    "\n",
    "        #define objects for Surprise. Must be in user, item, rating order\n",
    "        filtered_df = raw_df.loc[\n",
    "            (raw_df['gender'] == gender) &\n",
    "            (raw_df['age_bucket'] == age_bucket) &\n",
    "            (raw_df['prev_month_weekly_days_run'] >= (4)) & \n",
    "            (raw_df['prev_month_weekly_days_run'] <= (7)) &\n",
    "            (raw_df['prev_month_weekly_km'] >= target_kms-1) &\n",
    "            (raw_df['prev_month_weekly_km'] <= target_kms+1)\n",
    "        ]\n",
    "        \n",
    "        athlete_count = filtered_df['athlete'].size\n",
    "        \n",
    "        if filtered_df.size <= min_num_athletes:\n",
    "            print(\"insufficient data for\",gender,age_bucket,target_kms)\n",
    "            continue \n",
    "\n",
    "        #convert datates    \n",
    "        data = Dataset.load_from_df(filtered_df[[\"user_id\",\"run_distance_rounded\",\"weekly_frequency\"]], Reader(rating_scale=(0,7)))\n",
    "        \n",
    "        #build model\n",
    "        model = function_name(verbose=False, **kwargs)\n",
    "        validation = cross_validate(model, data, measures=['RMSE'], cv=5, verbose=False)\n",
    "\n",
    "        #capture outputs for dict from final fold\n",
    "        results_dict['gender'].append(gender)\n",
    "        results_dict['age_bucket'].append(age_bucket)\n",
    "        results_dict['weekly_target'].append(target_kms)\n",
    "        results_dict['RMSE'].append(validation['test_rmse'][2])\n",
    "        results_dict['athlete_count'].append(athlete_count)\n",
    "        \n",
    "        #clean up memory\n",
    "        del filtered_df\n",
    "\n",
    "    end = time.time()\n",
    "        \n",
    "    print(\"Finished in:\", end - start)\n",
    "    \n",
    "    return pd.DataFrame(results_dict)\n",
    "\n",
    "#read in results\n",
    "with open('2_5pctrun/knn_baselineauto_tune_results.json') as json_file:\n",
    "    data = json.load(json_file)\n",
    "\n",
    "df1 = model_RMSE(\"F\",\"18 - 34\",10,100, min_num_athletes=50, function_name=KNNBaseline, \n",
    "                 bsl_options = data['bsl_options'], sim_options = data['sim_options'], k = data['k'], min_k = data['min_k'])\n",
    "df2 = model_RMSE(\"M\",\"18 - 34\",10,100, min_num_athletes=50, function_name=KNNBaseline, \n",
    "                 bsl_options = data['bsl_options'], sim_options = data['sim_options'], k = data['k'], min_k = data['min_k'])\n",
    "df3 = model_RMSE(\"F\",\"35 - 54\",10,100, min_num_athletes=50, function_name=KNNBaseline, \n",
    "                 bsl_options = data['bsl_options'], sim_options = data['sim_options'], k = data['k'], min_k = data['min_k'])\n",
    "df4 = model_RMSE(\"M\",\"35 - 54\",10,100, min_num_athletes=50, function_name=KNNBaseline, \n",
    "                 bsl_options = data['bsl_options'], sim_options = data['sim_options'], k = data['k'], min_k = data['min_k'])\n",
    "df5 = model_RMSE(\"F\",\"55 +\",10,100, min_num_athletes=50, function_name=KNNBaseline, \n",
    "                 bsl_options = data['bsl_options'], sim_options = data['sim_options'], k = data['k'], min_k = data['min_k'])\n",
    "df6 = model_RMSE(\"M\",\"55 +\",10,100, min_num_athletes=50, function_name=KNNBaseline, \n",
    "                 bsl_options = data['bsl_options'], sim_options = data['sim_options'], k = data['k'], min_k = data['min_k'])\n",
    "\n",
    "weighted_results('KNN with Baseline')"
   ]
  },
  {
   "cell_type": "code",
   "execution_count": 68,
   "id": "2901c50a-5e6d-43c1-9390-12e0bc5f21f9",
   "metadata": {
    "tags": []
   },
   "outputs": [
    {
     "name": "stdout",
     "output_type": "stream",
     "text": [
      "insufficient data for F 18 - 34 11\n",
      "Finished in: 38.00745224952698\n",
      "insufficient data for M 18 - 34 11\n",
      "Finished in: 43.21994614601135\n",
      "Finished in: 38.76235103607178\n",
      "Finished in: 54.12440776824951\n",
      "insufficient data for F 55 + 10\n",
      "insufficient data for F 55 + 11\n",
      "insufficient data for F 55 + 12\n",
      "insufficient data for F 55 + 13\n",
      "insufficient data for F 55 + 14\n",
      "insufficient data for F 55 + 15\n",
      "insufficient data for F 55 + 18\n",
      "insufficient data for F 55 + 93\n",
      "insufficient data for F 55 + 94\n",
      "insufficient data for F 55 + 97\n",
      "insufficient data for F 55 + 98\n",
      "insufficient data for F 55 + 99\n",
      "insufficient data for F 55 + 100\n",
      "Finished in: 33.78467679023743\n",
      "insufficient data for M 55 + 10\n",
      "insufficient data for M 55 + 13\n",
      "insufficient data for M 55 + 14\n",
      "Finished in: 33.833582639694214\n",
      "KNN Basic\n"
     ]
    },
    {
     "data": {
      "text/html": [
       "<div>\n",
       "<style scoped>\n",
       "    .dataframe tbody tr th:only-of-type {\n",
       "        vertical-align: middle;\n",
       "    }\n",
       "\n",
       "    .dataframe tbody tr th {\n",
       "        vertical-align: top;\n",
       "    }\n",
       "\n",
       "    .dataframe thead th {\n",
       "        text-align: right;\n",
       "    }\n",
       "</style>\n",
       "<table border=\"1\" class=\"dataframe\">\n",
       "  <thead>\n",
       "    <tr style=\"text-align: right;\">\n",
       "      <th></th>\n",
       "      <th></th>\n",
       "      <th>RMSE_weight</th>\n",
       "      <th>athlete_count</th>\n",
       "      <th>Weighted_RMSE</th>\n",
       "    </tr>\n",
       "    <tr>\n",
       "      <th>age_bucket</th>\n",
       "      <th>gender</th>\n",
       "      <th></th>\n",
       "      <th></th>\n",
       "      <th></th>\n",
       "    </tr>\n",
       "  </thead>\n",
       "  <tbody>\n",
       "    <tr>\n",
       "      <th rowspan=\"2\" valign=\"top\">18 - 34</th>\n",
       "      <th>F</th>\n",
       "      <td>88516.041335</td>\n",
       "      <td>244318</td>\n",
       "      <td>0.362298</td>\n",
       "    </tr>\n",
       "    <tr>\n",
       "      <th>M</th>\n",
       "      <td>216502.779743</td>\n",
       "      <td>611362</td>\n",
       "      <td>0.354132</td>\n",
       "    </tr>\n",
       "    <tr>\n",
       "      <th rowspan=\"2\" valign=\"top\">35 - 54</th>\n",
       "      <th>F</th>\n",
       "      <td>109621.876211</td>\n",
       "      <td>283974</td>\n",
       "      <td>0.386028</td>\n",
       "    </tr>\n",
       "    <tr>\n",
       "      <th>M</th>\n",
       "      <td>432970.339507</td>\n",
       "      <td>1163970</td>\n",
       "      <td>0.371977</td>\n",
       "    </tr>\n",
       "    <tr>\n",
       "      <th rowspan=\"2\" valign=\"top\">55 +</th>\n",
       "      <th>F</th>\n",
       "      <td>11618.229166</td>\n",
       "      <td>27784</td>\n",
       "      <td>0.418163</td>\n",
       "    </tr>\n",
       "    <tr>\n",
       "      <th>M</th>\n",
       "      <td>56343.088244</td>\n",
       "      <td>142990</td>\n",
       "      <td>0.394035</td>\n",
       "    </tr>\n",
       "  </tbody>\n",
       "</table>\n",
       "</div>"
      ],
      "text/plain": [
       "                     RMSE_weight  athlete_count  Weighted_RMSE\n",
       "age_bucket gender                                             \n",
       "18 - 34    F        88516.041335         244318       0.362298\n",
       "           M       216502.779743         611362       0.354132\n",
       "35 - 54    F       109621.876211         283974       0.386028\n",
       "           M       432970.339507        1163970       0.371977\n",
       "55 +       F        11618.229166          27784       0.418163\n",
       "           M        56343.088244         142990       0.394035"
      ]
     },
     "execution_count": 68,
     "metadata": {},
     "output_type": "execute_result"
    }
   ],
   "source": [
    "#Basic KNN\n",
    "with open('2_5pctrun/knn_basicauto_tune_results.json') as json_file:\n",
    "    data = json.load(json_file)\n",
    "\n",
    "df1 = model_RMSE(\"F\",\"18 - 34\",10,100, min_num_athletes=50, function_name=KNNBasic, \n",
    "                 sim_options = data['sim_options'], k = data['k'], min_k = data['min_k'])\n",
    "df2 = model_RMSE(\"M\",\"18 - 34\",10,100, min_num_athletes=50, function_name=KNNBasic, \n",
    "                 sim_options = data['sim_options'], k = data['k'], min_k = data['min_k'])\n",
    "df3 = model_RMSE(\"F\",\"35 - 54\",10,100, min_num_athletes=50, function_name=KNNBasic, \n",
    "                 sim_options = data['sim_options'], k = data['k'], min_k = data['min_k'])\n",
    "df4 = model_RMSE(\"M\",\"35 - 54\",10,100, min_num_athletes=50, function_name=KNNBasic, \n",
    "                 sim_options = data['sim_options'], k = data['k'], min_k = data['min_k'])\n",
    "df5 = model_RMSE(\"F\",\"55 +\",10,100, min_num_athletes=50, function_name=KNNBasic, \n",
    "                 sim_options = data['sim_options'], k = data['k'], min_k = data['min_k'])\n",
    "df6 = model_RMSE(\"M\",\"55 +\",10,100, min_num_athletes=50, function_name=KNNBasic, \n",
    "                 sim_options = data['sim_options'], k = data['k'], min_k = data['min_k'])\n",
    "\n",
    "weighted_results('KNN Basic')"
   ]
  },
  {
   "cell_type": "code",
   "execution_count": 69,
   "id": "42387d52-e6ad-429b-bb74-77ce3d85f69a",
   "metadata": {},
   "outputs": [
    {
     "name": "stdout",
     "output_type": "stream",
     "text": [
      "insufficient data for F 18 - 34 11\n",
      "Finished in: 39.10376024246216\n",
      "insufficient data for M 18 - 34 11\n",
      "Finished in: 45.33127212524414\n",
      "Finished in: 39.53412222862244\n",
      "Finished in: 57.33166289329529\n",
      "insufficient data for F 55 + 10\n",
      "insufficient data for F 55 + 11\n",
      "insufficient data for F 55 + 12\n",
      "insufficient data for F 55 + 13\n",
      "insufficient data for F 55 + 14\n",
      "insufficient data for F 55 + 15\n",
      "insufficient data for F 55 + 18\n",
      "insufficient data for F 55 + 93\n",
      "insufficient data for F 55 + 94\n",
      "insufficient data for F 55 + 97\n",
      "insufficient data for F 55 + 98\n",
      "insufficient data for F 55 + 99\n",
      "insufficient data for F 55 + 100\n",
      "Finished in: 33.832945346832275\n",
      "insufficient data for M 55 + 10\n",
      "insufficient data for M 55 + 13\n",
      "insufficient data for M 55 + 14\n",
      "Finished in: 34.400203704833984\n",
      "KNN with means\n"
     ]
    },
    {
     "data": {
      "text/html": [
       "<div>\n",
       "<style scoped>\n",
       "    .dataframe tbody tr th:only-of-type {\n",
       "        vertical-align: middle;\n",
       "    }\n",
       "\n",
       "    .dataframe tbody tr th {\n",
       "        vertical-align: top;\n",
       "    }\n",
       "\n",
       "    .dataframe thead th {\n",
       "        text-align: right;\n",
       "    }\n",
       "</style>\n",
       "<table border=\"1\" class=\"dataframe\">\n",
       "  <thead>\n",
       "    <tr style=\"text-align: right;\">\n",
       "      <th></th>\n",
       "      <th></th>\n",
       "      <th>RMSE_weight</th>\n",
       "      <th>athlete_count</th>\n",
       "      <th>Weighted_RMSE</th>\n",
       "    </tr>\n",
       "    <tr>\n",
       "      <th>age_bucket</th>\n",
       "      <th>gender</th>\n",
       "      <th></th>\n",
       "      <th></th>\n",
       "      <th></th>\n",
       "    </tr>\n",
       "  </thead>\n",
       "  <tbody>\n",
       "    <tr>\n",
       "      <th rowspan=\"2\" valign=\"top\">18 - 34</th>\n",
       "      <th>F</th>\n",
       "      <td>78189.417235</td>\n",
       "      <td>244318</td>\n",
       "      <td>0.320031</td>\n",
       "    </tr>\n",
       "    <tr>\n",
       "      <th>M</th>\n",
       "      <td>201652.892714</td>\n",
       "      <td>611362</td>\n",
       "      <td>0.329842</td>\n",
       "    </tr>\n",
       "    <tr>\n",
       "      <th rowspan=\"2\" valign=\"top\">35 - 54</th>\n",
       "      <th>F</th>\n",
       "      <td>99739.186968</td>\n",
       "      <td>283974</td>\n",
       "      <td>0.351226</td>\n",
       "    </tr>\n",
       "    <tr>\n",
       "      <th>M</th>\n",
       "      <td>394854.748029</td>\n",
       "      <td>1163970</td>\n",
       "      <td>0.339231</td>\n",
       "    </tr>\n",
       "    <tr>\n",
       "      <th rowspan=\"2\" valign=\"top\">55 +</th>\n",
       "      <th>F</th>\n",
       "      <td>10766.853789</td>\n",
       "      <td>27784</td>\n",
       "      <td>0.387520</td>\n",
       "    </tr>\n",
       "    <tr>\n",
       "      <th>M</th>\n",
       "      <td>53046.319267</td>\n",
       "      <td>142990</td>\n",
       "      <td>0.370979</td>\n",
       "    </tr>\n",
       "  </tbody>\n",
       "</table>\n",
       "</div>"
      ],
      "text/plain": [
       "                     RMSE_weight  athlete_count  Weighted_RMSE\n",
       "age_bucket gender                                             \n",
       "18 - 34    F        78189.417235         244318       0.320031\n",
       "           M       201652.892714         611362       0.329842\n",
       "35 - 54    F        99739.186968         283974       0.351226\n",
       "           M       394854.748029        1163970       0.339231\n",
       "55 +       F        10766.853789          27784       0.387520\n",
       "           M        53046.319267         142990       0.370979"
      ]
     },
     "execution_count": 69,
     "metadata": {},
     "output_type": "execute_result"
    }
   ],
   "source": [
    "#KNN with means\n",
    "with open('2_5pctrun/knn_with_meansauto_tune_results.json') as json_file:\n",
    "    data = json.load(json_file)\n",
    "\n",
    "df1 = model_RMSE(\"F\",\"18 - 34\",10,100, min_num_athletes=50, function_name=KNNWithMeans, \n",
    "                 sim_options = data['sim_options'], min_k = data['min_k'])\n",
    "df2 = model_RMSE(\"M\",\"18 - 34\",10,100, min_num_athletes=50, function_name=KNNWithMeans, \n",
    "                 sim_options = data['sim_options'], min_k = data['min_k'])\n",
    "df3 = model_RMSE(\"F\",\"35 - 54\",10,100, min_num_athletes=50, function_name=KNNWithMeans, \n",
    "                 sim_options = data['sim_options'], min_k = data['min_k'])\n",
    "df4 = model_RMSE(\"M\",\"35 - 54\",10,100, min_num_athletes=50, function_name=KNNWithMeans, \n",
    "                 sim_options = data['sim_options'], min_k = data['min_k'])\n",
    "df5 = model_RMSE(\"F\",\"55 +\",10,100, min_num_athletes=50, function_name=KNNWithMeans, \n",
    "                 sim_options = data['sim_options'], min_k = data['min_k'])\n",
    "df6 = model_RMSE(\"M\",\"55 +\",10,100, min_num_athletes=50, function_name=KNNWithMeans, \n",
    "                 sim_options = data['sim_options'], min_k = data['min_k'])\n",
    "\n",
    "weighted_results('KNN with means')\n"
   ]
  },
  {
   "cell_type": "code",
   "execution_count": 81,
   "id": "0b51284e-f1e3-420f-8dd6-feb7691bc090",
   "metadata": {
    "tags": []
   },
   "outputs": [
    {
     "name": "stdout",
     "output_type": "stream",
     "text": [
      "insufficient data for F 18 - 34 11\n",
      "Finished in: 59.70398736000061\n",
      "insufficient data for M 18 - 34 11\n",
      "Finished in: 102.51276111602783\n",
      "Finished in: 64.46778297424316\n",
      "Finished in: 171.27458453178406\n",
      "insufficient data for F 55 + 10\n",
      "insufficient data for F 55 + 11\n",
      "insufficient data for F 55 + 12\n",
      "insufficient data for F 55 + 13\n",
      "insufficient data for F 55 + 14\n",
      "insufficient data for F 55 + 15\n",
      "insufficient data for F 55 + 18\n",
      "insufficient data for F 55 + 93\n",
      "insufficient data for F 55 + 94\n",
      "insufficient data for F 55 + 97\n",
      "insufficient data for F 55 + 98\n",
      "insufficient data for F 55 + 99\n",
      "insufficient data for F 55 + 100\n",
      "Finished in: 36.174323081970215\n",
      "insufficient data for M 55 + 10\n",
      "insufficient data for M 55 + 13\n",
      "insufficient data for M 55 + 14\n",
      "Finished in: 46.21928286552429\n",
      "SVD\n"
     ]
    },
    {
     "data": {
      "text/html": [
       "<div>\n",
       "<style scoped>\n",
       "    .dataframe tbody tr th:only-of-type {\n",
       "        vertical-align: middle;\n",
       "    }\n",
       "\n",
       "    .dataframe tbody tr th {\n",
       "        vertical-align: top;\n",
       "    }\n",
       "\n",
       "    .dataframe thead th {\n",
       "        text-align: right;\n",
       "    }\n",
       "</style>\n",
       "<table border=\"1\" class=\"dataframe\">\n",
       "  <thead>\n",
       "    <tr style=\"text-align: right;\">\n",
       "      <th></th>\n",
       "      <th></th>\n",
       "      <th>RMSE_weight</th>\n",
       "      <th>athlete_count</th>\n",
       "      <th>Weighted_RMSE</th>\n",
       "    </tr>\n",
       "    <tr>\n",
       "      <th>age_bucket</th>\n",
       "      <th>gender</th>\n",
       "      <th></th>\n",
       "      <th></th>\n",
       "      <th></th>\n",
       "    </tr>\n",
       "  </thead>\n",
       "  <tbody>\n",
       "    <tr>\n",
       "      <th rowspan=\"2\" valign=\"top\">18 - 34</th>\n",
       "      <th>F</th>\n",
       "      <td>43998.035703</td>\n",
       "      <td>244318</td>\n",
       "      <td>0.180085</td>\n",
       "    </tr>\n",
       "    <tr>\n",
       "      <th>M</th>\n",
       "      <td>112303.727597</td>\n",
       "      <td>611362</td>\n",
       "      <td>0.183694</td>\n",
       "    </tr>\n",
       "    <tr>\n",
       "      <th rowspan=\"2\" valign=\"top\">35 - 54</th>\n",
       "      <th>F</th>\n",
       "      <td>54782.891022</td>\n",
       "      <td>283974</td>\n",
       "      <td>0.192915</td>\n",
       "    </tr>\n",
       "    <tr>\n",
       "      <th>M</th>\n",
       "      <td>220560.711940</td>\n",
       "      <td>1163970</td>\n",
       "      <td>0.189490</td>\n",
       "    </tr>\n",
       "    <tr>\n",
       "      <th rowspan=\"2\" valign=\"top\">55 +</th>\n",
       "      <th>F</th>\n",
       "      <td>5221.505402</td>\n",
       "      <td>27784</td>\n",
       "      <td>0.187932</td>\n",
       "    </tr>\n",
       "    <tr>\n",
       "      <th>M</th>\n",
       "      <td>26557.809623</td>\n",
       "      <td>142990</td>\n",
       "      <td>0.185732</td>\n",
       "    </tr>\n",
       "  </tbody>\n",
       "</table>\n",
       "</div>"
      ],
      "text/plain": [
       "                     RMSE_weight  athlete_count  Weighted_RMSE\n",
       "age_bucket gender                                             \n",
       "18 - 34    F        43998.035703         244318       0.180085\n",
       "           M       112303.727597         611362       0.183694\n",
       "35 - 54    F        54782.891022         283974       0.192915\n",
       "           M       220560.711940        1163970       0.189490\n",
       "55 +       F         5221.505402          27784       0.187932\n",
       "           M        26557.809623         142990       0.185732"
      ]
     },
     "execution_count": 81,
     "metadata": {},
     "output_type": "execute_result"
    }
   ],
   "source": [
    "#SVD\n",
    "with open('svdauto_tune_results.json') as json_file:\n",
    "    data = json.load(json_file)\n",
    "data.pop('algo')\n",
    "data.pop('rmse')\n",
    "\n",
    "df1 = model_RMSE(\"F\",\"18 - 34\",10,100, min_num_athletes=50, function_name=SVD, \n",
    "                 lr_bi = data['lr_bi'], lr_bu = data['lr_bu'], lr_pu = data['lr_pu'], lr_qi = data['lr_qi'], n_epochs = data['n_epochs'], \n",
    "                 n_factors = data['n_factors'], reg_bi= data['reg_bi'], reg_bu = data['reg_bu'], reg_pu = data['reg_pu'], reg_qi = data['reg_qi'])\n",
    "df2 = model_RMSE(\"M\",\"18 - 34\",10,100, min_num_athletes=50, function_name=SVD, \n",
    "                 lr_bi = data['lr_bi'], lr_bu = data['lr_bu'], lr_pu = data['lr_pu'], lr_qi = data['lr_qi'], n_epochs = data['n_epochs'], \n",
    "                 n_factors = data['n_factors'], reg_bi= data['reg_bi'], reg_bu = data['reg_bu'], reg_pu = data['reg_pu'], reg_qi = data['reg_qi'])\n",
    "df3 = model_RMSE(\"F\",\"35 - 54\",10,100, min_num_athletes=50, function_name=SVD, \n",
    "                 lr_bi = data['lr_bi'], lr_bu = data['lr_bu'], lr_pu = data['lr_pu'], lr_qi = data['lr_qi'], n_epochs = data['n_epochs'], \n",
    "                 n_factors = data['n_factors'], reg_bi= data['reg_bi'], reg_bu = data['reg_bu'], reg_pu = data['reg_pu'], reg_qi = data['reg_qi'])\n",
    "df4 = model_RMSE(\"M\",\"35 - 54\",10,100, min_num_athletes=50, function_name=SVD, \n",
    "                 lr_bi = data['lr_bi'], lr_bu = data['lr_bu'], lr_pu = data['lr_pu'], lr_qi = data['lr_qi'], n_epochs = data['n_epochs'], \n",
    "                 n_factors = data['n_factors'], reg_bi= data['reg_bi'], reg_bu = data['reg_bu'], reg_pu = data['reg_pu'], reg_qi = data['reg_qi'])\n",
    "df5 = model_RMSE(\"F\",\"55 +\",10,100, min_num_athletes=50, function_name=SVD, \n",
    "                 lr_bi = data['lr_bi'], lr_bu = data['lr_bu'], lr_pu = data['lr_pu'], lr_qi = data['lr_qi'], n_epochs = data['n_epochs'], \n",
    "                 n_factors = data['n_factors'], reg_bi= data['reg_bi'], reg_bu = data['reg_bu'], reg_pu = data['reg_pu'], reg_qi = data['reg_qi'])\n",
    "df6 = model_RMSE(\"M\",\"55 +\",10,100, min_num_athletes=50, function_name=SVD, \n",
    "                 lr_bi = data['lr_bi'], lr_bu = data['lr_bu'], lr_pu = data['lr_pu'], lr_qi = data['lr_qi'], n_epochs = data['n_epochs'], \n",
    "                 n_factors = data['n_factors'], reg_bi= data['reg_bi'], reg_bu = data['reg_bu'], reg_pu = data['reg_pu'], reg_qi = data['reg_qi'])\n",
    "\n",
    "weighted_results('SVD')\n"
   ]
  },
  {
   "cell_type": "code",
   "execution_count": null,
   "id": "06429e86-63eb-4e4e-b88a-ebd6e88443d4",
   "metadata": {
    "tags": []
   },
   "outputs": [
    {
     "name": "stdout",
     "output_type": "stream",
     "text": [
      "insufficient data for F 18 - 34 11\n",
      "Finished in: 826.069821357727\n",
      "insufficient data for M 18 - 34 11\n",
      "Finished in: 2103.8918023109436\n",
      "Finished in: 932.873875617981\n"
     ]
    }
   ],
   "source": [
    "#SVD PP\n",
    "with open('svdppauto_tune_results.json') as json_file:\n",
    "    data = json.load(json_file)\n",
    "data.pop('algo')\n",
    "data.pop('rmse')\n",
    "\n",
    "df1 = model_RMSE(\"F\",\"18 - 34\",10,100, min_num_athletes=50, function_name=SVDpp, lr_bi = data['lr_bi'], lr_bu = data['lr_bu'], lr_pu = data['lr_pu'], \n",
    "                 lr_qi = data['lr_qi'], lr_yj = data['lr_yj'], n_epochs = data['n_epochs'], n_factors = data['n_factors'], reg_bi= data['reg_bi'], \n",
    "                 reg_bu = data['reg_bu'], reg_pu = data['reg_pu'], reg_qi = data['reg_qi'], reg_yj = data['reg_yj'])\n",
    "df2 = model_RMSE(\"M\",\"18 - 34\",10,100, min_num_athletes=50, function_name=SVDpp, \n",
    "                 lr_bi = data['lr_bi'], lr_bu = data['lr_bu'], lr_pu = data['lr_pu'], lr_qi = data['lr_qi'], n_epochs = data['n_epochs'], \n",
    "                 n_factors = data['n_factors'], reg_bi= data['reg_bi'], reg_bu = data['reg_bu'], reg_pu = data['reg_pu'], reg_qi = data['reg_qi'],\n",
    "                 lr_yj = data['lr_yj'], reg_yj = data['reg_yj'])\n",
    "df3 = model_RMSE(\"F\",\"35 - 54\",10,100, min_num_athletes=50, function_name=SVDpp, \n",
    "                 lr_bi = data['lr_bi'], lr_bu = data['lr_bu'], lr_pu = data['lr_pu'], lr_qi = data['lr_qi'], n_epochs = data['n_epochs'], \n",
    "                 n_factors = data['n_factors'], reg_bi= data['reg_bi'], reg_bu = data['reg_bu'], reg_pu = data['reg_pu'], reg_qi = data['reg_qi'],\n",
    "                 lr_yj = data['lr_yj'], reg_yj = data['reg_yj'])\n",
    "df4 = model_RMSE(\"M\",\"35 - 54\",10,100, min_num_athletes=50, function_name=SVDpp, \n",
    "                 lr_bi = data['lr_bi'], lr_bu = data['lr_bu'], lr_pu = data['lr_pu'], lr_qi = data['lr_qi'], n_epochs = data['n_epochs'], \n",
    "                 n_factors = data['n_factors'], reg_bi= data['reg_bi'], reg_bu = data['reg_bu'], reg_pu = data['reg_pu'], reg_qi = data['reg_qi'],\n",
    "                 lr_yj = data['lr_yj'], reg_yj = data['reg_yj'])\n",
    "df5 = model_RMSE(\"F\",\"55 +\",10,100, min_num_athletes=50, function_name=SVDpp, \n",
    "                 lr_bi = data['lr_bi'], lr_bu = data['lr_bu'], lr_pu = data['lr_pu'], lr_qi = data['lr_qi'], n_epochs = data['n_epochs'], \n",
    "                 n_factors = data['n_factors'], reg_bi= data['reg_bi'], reg_bu = data['reg_bu'], reg_pu = data['reg_pu'], reg_qi = data['reg_qi'],\n",
    "                 lr_yj = data['lr_yj'], reg_yj = data['reg_yj'])\n",
    "df6 = model_RMSE(\"M\",\"55 +\",10,100, min_num_athletes=50, function_name=SVDpp, \n",
    "                 lr_bi = data['lr_bi'], lr_bu = data['lr_bu'], lr_pu = data['lr_pu'], lr_qi = data['lr_qi'], n_epochs = data['n_epochs'], \n",
    "                 n_factors = data['n_factors'], reg_bi= data['reg_bi'], reg_bu = data['reg_bu'], reg_pu = data['reg_pu'], reg_qi = data['reg_qi'],\n",
    "                 lr_yj = data['lr_yj'], reg_yj = data['reg_yj'])\n",
    "\n",
    "weighted_results('SVD')"
   ]
  },
  {
   "cell_type": "code",
   "execution_count": 67,
   "id": "54859ed8-92a2-473f-9a5c-c53b2acd9d8f",
   "metadata": {},
   "outputs": [
    {
     "name": "stdout",
     "output_type": "stream",
     "text": [
      "in 1\n",
      "{'a': '1', 'b': '2', 'c': '3'}\n"
     ]
    }
   ],
   "source": [
    "def test1(**kwargs):\n",
    "    print('in 1')\n",
    "    test2(**kwargs)\n",
    "    \n",
    "def test2(**kwargs):\n",
    "    print(kwargs)\n",
    "    \n",
    "test1(a='1', b='2', c='3')"
   ]
  },
  {
   "cell_type": "code",
   "execution_count": null,
   "id": "08c3e0b3-bc97-4114-b713-2ecfc123acd8",
   "metadata": {},
   "outputs": [],
   "source": [
    "#EOF"
   ]
  }
 ],
 "metadata": {
  "kernelspec": {
   "display_name": "Python 3 (ipykernel)",
   "language": "python",
   "name": "python3"
  },
  "language_info": {
   "codemirror_mode": {
    "name": "ipython",
    "version": 3
   },
   "file_extension": ".py",
   "mimetype": "text/x-python",
   "name": "python",
   "nbconvert_exporter": "python",
   "pygments_lexer": "ipython3",
   "version": "3.10.9"
  }
 },
 "nbformat": 4,
 "nbformat_minor": 5
}
