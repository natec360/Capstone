{
 "cells": [
  {
   "cell_type": "code",
   "execution_count": 4,
   "id": "05702c8f-8f78-492f-8d23-5aab96ad4d43",
   "metadata": {
    "tags": []
   },
   "outputs": [
    {
     "name": "stdin",
     "output_type": "stream",
     "text": [
      "Are you a new user? (yes/no):  no\n",
      "Please enter your user id:  14839\n",
      "How many days did you run in the last 7 days?:  1\n",
      "What is your gender? (M/F/Other)  M\n",
      "What is your age?  35\n",
      "Enter a date you ran in MM/DD/YYYY format:  08/01/2023\n",
      "How many kilometers did you run?:  20\n",
      "What was the total run time in HH:MM:SS format?:  00:56:00\n",
      "How many km do you plan to run this week?  60\n",
      "How many days do you plan to run?  6\n",
      "How many medium intensity runs would you like?  1\n",
      "How many high intensity runs would you like?  1\n",
      "Would you like a Sunday long run? (yes/no)  yes\n"
     ]
    },
    {
     "name": "stdout",
     "output_type": "stream",
     "text": [
      "finished loading\n"
     ]
    },
    {
     "name": "stderr",
     "output_type": "stream",
     "text": [
      "/home/ec2-user/Capstone/App/database_functions.py:77: UserWarning: Could not infer format, so each element will be parsed individually, falling back to `dateutil`. To ensure parsing is consistent and as-expected, please specify a format.\n",
      "  user_df['Duration'] = pd.to_datetime(user_df['Duration'])\n",
      "/home/ec2-user/Capstone/App/database_functions.py:108: SettingWithCopyWarning: \n",
      "A value is trying to be set on a copy of a slice from a DataFrame.\n",
      "Try using .loc[row_indexer,col_indexer] = value instead\n",
      "\n",
      "See the caveats in the documentation: https://pandas.pydata.org/pandas-docs/stable/user_guide/indexing.html#returning-a-view-versus-a-copy\n",
      "  curr_month_runs['run_distance_rounded'] = curr_month_runs.Distance.round()\n"
     ]
    },
    {
     "data": {
      "text/html": [
       "<div>\n",
       "<style scoped>\n",
       "    .dataframe tbody tr th:only-of-type {\n",
       "        vertical-align: middle;\n",
       "    }\n",
       "\n",
       "    .dataframe tbody tr th {\n",
       "        vertical-align: top;\n",
       "    }\n",
       "\n",
       "    .dataframe thead th {\n",
       "        text-align: right;\n",
       "    }\n",
       "</style>\n",
       "<table border=\"1\" class=\"dataframe\">\n",
       "  <thead>\n",
       "    <tr style=\"text-align: right;\">\n",
       "      <th></th>\n",
       "      <th>run_distance</th>\n",
       "      <th>pace</th>\n",
       "    </tr>\n",
       "  </thead>\n",
       "  <tbody>\n",
       "    <tr>\n",
       "      <th>4</th>\n",
       "      <td>9</td>\n",
       "      <td>00:06:30</td>\n",
       "    </tr>\n",
       "    <tr>\n",
       "      <th>0</th>\n",
       "      <td>10</td>\n",
       "      <td>00:06:30</td>\n",
       "    </tr>\n",
       "    <tr>\n",
       "      <th>5</th>\n",
       "      <td>10</td>\n",
       "      <td>00:06:30</td>\n",
       "    </tr>\n",
       "    <tr>\n",
       "      <th>1</th>\n",
       "      <td>10</td>\n",
       "      <td>00:06:30</td>\n",
       "    </tr>\n",
       "    <tr>\n",
       "      <th>2</th>\n",
       "      <td>8</td>\n",
       "      <td>00:06:30</td>\n",
       "    </tr>\n",
       "    <tr>\n",
       "      <th>3</th>\n",
       "      <td>13</td>\n",
       "      <td>00:06:30</td>\n",
       "    </tr>\n",
       "  </tbody>\n",
       "</table>\n",
       "</div>"
      ],
      "text/plain": [
       "   run_distance      pace\n",
       "4             9  00:06:30\n",
       "0            10  00:06:30\n",
       "5            10  00:06:30\n",
       "1            10  00:06:30\n",
       "2             8  00:06:30\n",
       "3            13  00:06:30"
      ]
     },
     "execution_count": 4,
     "metadata": {},
     "output_type": "execute_result"
    }
   ],
   "source": [
    "# -*- coding: utf-8 -*-\n",
    "\"\"\"\n",
    "Created on Mon Oct 25 20:32:30 2021\n",
    "\n",
    "@author: Matt Pitz\n",
    "\"\"\"\n",
    "\n",
    "\n",
    "import user_data as user\n",
    "import database_functions as dbf\n",
    "import recommender as rec\n",
    "\n",
    "def main():\n",
    "    #collect user inputs (note only works on new user for now\n",
    "    new_user, user_id, gender, age_group, month, updated_user_df = user.get_user_data()\n",
    "    \n",
    "    #collect user goals\n",
    "    weekly_target, days_to_run, medium_intensity_runs, high_intensity_runs, long_run = user.get_run_plan()\n",
    "    \n",
    "    #load db in memory (Move this to server start when website work)\n",
    "    raw_df = dbf.load_data()\n",
    "    print('finished loading')\n",
    "    \n",
    "    #pass user data to db\n",
    "    update_user_df = dbf.update_database(new_user, gender, age_group, month, weekly_target, days_to_run, user_id, updated_user_df)\n",
    "    \n",
    "    #create dataset with user data for model\n",
    "    filtered_df = dbf.database_for_recommender(raw_df, update_user_df, gender, age_group, month, days_to_run, weekly_target)\n",
    "    \n",
    "    #return recommendations\n",
    "    recommendations_df = rec.generate_run_ratings(filtered_df,user_id, weekly_target, days_to_run)\n",
    "    \n",
    "    #return training plan\n",
    "    run_schedule = rec.return_run_schedule(recommendations_df, days_to_run, weekly_target, medium_intensity_runs, high_intensity_runs, long_run)\n",
    "    \n",
    "    return run_schedule\n",
    "\n",
    "schedule = main()\n",
    "schedule\n",
    "#eof"
   ]
  },
  {
   "cell_type": "code",
   "execution_count": 3,
   "id": "6f2ba9a0-37c4-484b-9048-4a5da4d55d16",
   "metadata": {},
   "outputs": [
    {
     "data": {
      "text/plain": [
       "\"\\nimport pandas as pd\\nfrom datetime import datetime\\nimport pyarrow.parquet as pq\\n\\nuser_df = pd.read_parquet('../App_Data/new_user_db.parquet')\\ndate_str = '2023-08-01'\\nformat_str = '%Y-%m-%d'\\ndatetime_obj = datetime.strptime(date_str, format_str).date()\\nuser_df = user_df[user_df['Date']<datetime_obj]\\nuser_df\\nuser_df.to_parquet('../App_Data/new_user_db.parquet')\\n\""
      ]
     },
     "execution_count": 3,
     "metadata": {},
     "output_type": "execute_result"
    }
   ],
   "source": [
    "#Snippet to remove user data when testing\n",
    "\"\"\"\n",
    "import pandas as pd\n",
    "from datetime import datetime\n",
    "import pyarrow.parquet as pq\n",
    "\n",
    "user_df = pd.read_parquet('../App_Data/new_user_db.parquet')\n",
    "date_str = '2023-08-01'\n",
    "format_str = '%Y-%m-%d'\n",
    "datetime_obj = datetime.strptime(date_str, format_str).date()\n",
    "user_df = user_df[user_df['Date']<datetime_obj]\n",
    "user_df\n",
    "user_df.to_parquet('../App_Data/new_user_db.parquet')\n",
    "\"\"\""
   ]
  }
 ],
 "metadata": {
  "kernelspec": {
   "display_name": "Python 3 (ipykernel)",
   "language": "python",
   "name": "python3"
  },
  "language_info": {
   "codemirror_mode": {
    "name": "ipython",
    "version": 3
   },
   "file_extension": ".py",
   "mimetype": "text/x-python",
   "name": "python",
   "nbconvert_exporter": "python",
   "pygments_lexer": "ipython3",
   "version": "3.10.9"
  }
 },
 "nbformat": 4,
 "nbformat_minor": 5
}
